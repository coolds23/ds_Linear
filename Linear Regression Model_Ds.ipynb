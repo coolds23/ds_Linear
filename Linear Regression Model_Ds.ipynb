{
 "cells": [
  {
   "cell_type": "markdown",
   "id": "5a55210b",
   "metadata": {},
   "source": [
    "# House price prediction using Linear regression\n",
    "\n"
   ]
  },
  {
   "cell_type": "markdown",
   "id": "df0b58cc",
   "metadata": {},
   "source": [
    "# Basic library"
   ]
  },
  {
   "cell_type": "code",
   "execution_count": 1,
   "id": "cd344a30",
   "metadata": {},
   "outputs": [],
   "source": [
    "import os\n",
    "import numpy as np\n",
    "import pandas as pd\n",
    "import matplotlib.pyplot as plt\n",
    "%matplotlib inline  \n",
    "#visulazation in proper shape\n",
    "import seaborn as sns\n",
    "sns.set()\n",
    "\n",
    "import warnings\n",
    "warnings.filterwarnings(\"ignore\")"
   ]
  },
  {
   "cell_type": "markdown",
   "id": "376c9f84",
   "metadata": {},
   "source": [
    "# Importing dataset"
   ]
  },
  {
   "cell_type": "code",
   "execution_count": 2,
   "id": "116b3bec",
   "metadata": {},
   "outputs": [
    {
     "data": {
      "text/plain": [
       "'C:\\\\Users\\\\DS\\\\Desktop\\\\linear'"
      ]
     },
     "execution_count": 2,
     "metadata": {},
     "output_type": "execute_result"
    }
   ],
   "source": [
    "%pwd #Present working directory"
   ]
  },
  {
   "cell_type": "code",
   "execution_count": 3,
   "id": "d3c65687",
   "metadata": {},
   "outputs": [
    {
     "data": {
      "text/html": [
       "<div>\n",
       "<style scoped>\n",
       "    .dataframe tbody tr th:only-of-type {\n",
       "        vertical-align: middle;\n",
       "    }\n",
       "\n",
       "    .dataframe tbody tr th {\n",
       "        vertical-align: top;\n",
       "    }\n",
       "\n",
       "    .dataframe thead th {\n",
       "        text-align: right;\n",
       "    }\n",
       "</style>\n",
       "<table border=\"1\" class=\"dataframe\">\n",
       "  <thead>\n",
       "    <tr style=\"text-align: right;\">\n",
       "      <th></th>\n",
       "      <th>Avg. Area Income</th>\n",
       "      <th>Avg. Area House Age</th>\n",
       "      <th>Avg. Area Number of Rooms</th>\n",
       "      <th>Avg. Area Number of Bedrooms</th>\n",
       "      <th>Area Population</th>\n",
       "      <th>Price</th>\n",
       "      <th>Address</th>\n",
       "    </tr>\n",
       "  </thead>\n",
       "  <tbody>\n",
       "    <tr>\n",
       "      <th>0</th>\n",
       "      <td>79545.45857</td>\n",
       "      <td>5.682861</td>\n",
       "      <td>7.009188</td>\n",
       "      <td>4.09</td>\n",
       "      <td>23086.80050</td>\n",
       "      <td>1.059034e+06</td>\n",
       "      <td>208 Michael Ferry Apt. 674\\nLaurabury, NE 3701...</td>\n",
       "    </tr>\n",
       "    <tr>\n",
       "      <th>1</th>\n",
       "      <td>79248.64245</td>\n",
       "      <td>6.002900</td>\n",
       "      <td>6.730821</td>\n",
       "      <td>3.09</td>\n",
       "      <td>40173.07217</td>\n",
       "      <td>1.505891e+06</td>\n",
       "      <td>188 Johnson Views Suite 079\\nLake Kathleen, CA...</td>\n",
       "    </tr>\n",
       "    <tr>\n",
       "      <th>2</th>\n",
       "      <td>61287.06718</td>\n",
       "      <td>5.865890</td>\n",
       "      <td>8.512727</td>\n",
       "      <td>5.13</td>\n",
       "      <td>36882.15940</td>\n",
       "      <td>1.058988e+06</td>\n",
       "      <td>9127 Elizabeth Stravenue\\nDanieltown, WI 06482...</td>\n",
       "    </tr>\n",
       "    <tr>\n",
       "      <th>3</th>\n",
       "      <td>63345.24005</td>\n",
       "      <td>7.188236</td>\n",
       "      <td>5.586729</td>\n",
       "      <td>3.26</td>\n",
       "      <td>34310.24283</td>\n",
       "      <td>1.260617e+06</td>\n",
       "      <td>USS Barnett\\nFPO AP 44820</td>\n",
       "    </tr>\n",
       "    <tr>\n",
       "      <th>4</th>\n",
       "      <td>59982.19723</td>\n",
       "      <td>5.040555</td>\n",
       "      <td>7.839388</td>\n",
       "      <td>4.23</td>\n",
       "      <td>26354.10947</td>\n",
       "      <td>6.309435e+05</td>\n",
       "      <td>USNS Raymond\\nFPO AE 09386</td>\n",
       "    </tr>\n",
       "  </tbody>\n",
       "</table>\n",
       "</div>"
      ],
      "text/plain": [
       "   Avg. Area Income  Avg. Area House Age  Avg. Area Number of Rooms  \\\n",
       "0       79545.45857             5.682861                   7.009188   \n",
       "1       79248.64245             6.002900                   6.730821   \n",
       "2       61287.06718             5.865890                   8.512727   \n",
       "3       63345.24005             7.188236                   5.586729   \n",
       "4       59982.19723             5.040555                   7.839388   \n",
       "\n",
       "   Avg. Area Number of Bedrooms  Area Population         Price  \\\n",
       "0                          4.09      23086.80050  1.059034e+06   \n",
       "1                          3.09      40173.07217  1.505891e+06   \n",
       "2                          5.13      36882.15940  1.058988e+06   \n",
       "3                          3.26      34310.24283  1.260617e+06   \n",
       "4                          4.23      26354.10947  6.309435e+05   \n",
       "\n",
       "                                             Address  \n",
       "0  208 Michael Ferry Apt. 674\\nLaurabury, NE 3701...  \n",
       "1  188 Johnson Views Suite 079\\nLake Kathleen, CA...  \n",
       "2  9127 Elizabeth Stravenue\\nDanieltown, WI 06482...  \n",
       "3                          USS Barnett\\nFPO AP 44820  \n",
       "4                         USNS Raymond\\nFPO AE 09386  "
      ]
     },
     "execution_count": 3,
     "metadata": {},
     "output_type": "execute_result"
    }
   ],
   "source": [
    "Housing = pd.read_csv('USA_Housing (1).csv')\n",
    "Housing.head()"
   ]
  },
  {
   "cell_type": "code",
   "execution_count": 4,
   "id": "e32d5fab",
   "metadata": {},
   "outputs": [
    {
     "data": {
      "text/html": [
       "<div>\n",
       "<style scoped>\n",
       "    .dataframe tbody tr th:only-of-type {\n",
       "        vertical-align: middle;\n",
       "    }\n",
       "\n",
       "    .dataframe tbody tr th {\n",
       "        vertical-align: top;\n",
       "    }\n",
       "\n",
       "    .dataframe thead th {\n",
       "        text-align: right;\n",
       "    }\n",
       "</style>\n",
       "<table border=\"1\" class=\"dataframe\">\n",
       "  <thead>\n",
       "    <tr style=\"text-align: right;\">\n",
       "      <th></th>\n",
       "      <th>Avg. Area Income</th>\n",
       "      <th>Avg. Area House Age</th>\n",
       "      <th>Avg. Area Number of Rooms</th>\n",
       "      <th>Avg. Area Number of Bedrooms</th>\n",
       "      <th>Area Population</th>\n",
       "      <th>Price</th>\n",
       "    </tr>\n",
       "  </thead>\n",
       "  <tbody>\n",
       "    <tr>\n",
       "      <th>count</th>\n",
       "      <td>4990.000000</td>\n",
       "      <td>5000.000000</td>\n",
       "      <td>4995.000000</td>\n",
       "      <td>4994.000000</td>\n",
       "      <td>5000.000000</td>\n",
       "      <td>5.000000e+03</td>\n",
       "    </tr>\n",
       "    <tr>\n",
       "      <th>mean</th>\n",
       "      <td>68584.719991</td>\n",
       "      <td>5.977222</td>\n",
       "      <td>6.987693</td>\n",
       "      <td>3.981874</td>\n",
       "      <td>36163.516039</td>\n",
       "      <td>1.232073e+06</td>\n",
       "    </tr>\n",
       "    <tr>\n",
       "      <th>std</th>\n",
       "      <td>10651.192423</td>\n",
       "      <td>0.991456</td>\n",
       "      <td>1.005938</td>\n",
       "      <td>1.234497</td>\n",
       "      <td>9925.650114</td>\n",
       "      <td>3.531176e+05</td>\n",
       "    </tr>\n",
       "    <tr>\n",
       "      <th>min</th>\n",
       "      <td>17796.631190</td>\n",
       "      <td>2.644304</td>\n",
       "      <td>3.236194</td>\n",
       "      <td>2.000000</td>\n",
       "      <td>172.610686</td>\n",
       "      <td>1.593866e+04</td>\n",
       "    </tr>\n",
       "    <tr>\n",
       "      <th>25%</th>\n",
       "      <td>61481.465105</td>\n",
       "      <td>5.322283</td>\n",
       "      <td>6.299156</td>\n",
       "      <td>3.140000</td>\n",
       "      <td>29403.928700</td>\n",
       "      <td>9.975771e+05</td>\n",
       "    </tr>\n",
       "    <tr>\n",
       "      <th>50%</th>\n",
       "      <td>68797.671885</td>\n",
       "      <td>5.970429</td>\n",
       "      <td>7.002940</td>\n",
       "      <td>4.050000</td>\n",
       "      <td>36199.406690</td>\n",
       "      <td>1.232669e+06</td>\n",
       "    </tr>\n",
       "    <tr>\n",
       "      <th>75%</th>\n",
       "      <td>75779.145465</td>\n",
       "      <td>6.650808</td>\n",
       "      <td>7.665622</td>\n",
       "      <td>4.490000</td>\n",
       "      <td>42861.290770</td>\n",
       "      <td>1.471210e+06</td>\n",
       "    </tr>\n",
       "    <tr>\n",
       "      <th>max</th>\n",
       "      <td>107701.748400</td>\n",
       "      <td>9.519088</td>\n",
       "      <td>10.759588</td>\n",
       "      <td>6.500000</td>\n",
       "      <td>69621.713380</td>\n",
       "      <td>2.469066e+06</td>\n",
       "    </tr>\n",
       "  </tbody>\n",
       "</table>\n",
       "</div>"
      ],
      "text/plain": [
       "       Avg. Area Income  Avg. Area House Age  Avg. Area Number of Rooms  \\\n",
       "count       4990.000000          5000.000000                4995.000000   \n",
       "mean       68584.719991             5.977222                   6.987693   \n",
       "std        10651.192423             0.991456                   1.005938   \n",
       "min        17796.631190             2.644304                   3.236194   \n",
       "25%        61481.465105             5.322283                   6.299156   \n",
       "50%        68797.671885             5.970429                   7.002940   \n",
       "75%        75779.145465             6.650808                   7.665622   \n",
       "max       107701.748400             9.519088                  10.759588   \n",
       "\n",
       "       Avg. Area Number of Bedrooms  Area Population         Price  \n",
       "count                   4994.000000      5000.000000  5.000000e+03  \n",
       "mean                       3.981874     36163.516039  1.232073e+06  \n",
       "std                        1.234497      9925.650114  3.531176e+05  \n",
       "min                        2.000000       172.610686  1.593866e+04  \n",
       "25%                        3.140000     29403.928700  9.975771e+05  \n",
       "50%                        4.050000     36199.406690  1.232669e+06  \n",
       "75%                        4.490000     42861.290770  1.471210e+06  \n",
       "max                        6.500000     69621.713380  2.469066e+06  "
      ]
     },
     "execution_count": 4,
     "metadata": {},
     "output_type": "execute_result"
    }
   ],
   "source": [
    "Housing.describe()"
   ]
  },
  {
   "cell_type": "markdown",
   "id": "8fceb53e",
   "metadata": {},
   "source": [
    "# Information about variables"
   ]
  },
  {
   "cell_type": "code",
   "execution_count": 5,
   "id": "00370b3b",
   "metadata": {},
   "outputs": [
    {
     "name": "stdout",
     "output_type": "stream",
     "text": [
      "<class 'pandas.core.frame.DataFrame'>\n",
      "RangeIndex: 5000 entries, 0 to 4999\n",
      "Data columns (total 7 columns):\n",
      " #   Column                        Non-Null Count  Dtype  \n",
      "---  ------                        --------------  -----  \n",
      " 0   Avg. Area Income              4990 non-null   float64\n",
      " 1   Avg. Area House Age           5000 non-null   float64\n",
      " 2   Avg. Area Number of Rooms     4995 non-null   float64\n",
      " 3   Avg. Area Number of Bedrooms  4994 non-null   float64\n",
      " 4   Area Population               5000 non-null   float64\n",
      " 5   Price                         5000 non-null   float64\n",
      " 6   Address                       5000 non-null   object \n",
      "dtypes: float64(6), object(1)\n",
      "memory usage: 273.6+ KB\n"
     ]
    }
   ],
   "source": [
    "Housing.info()"
   ]
  },
  {
   "cell_type": "markdown",
   "id": "a085f5d4",
   "metadata": {},
   "source": [
    "# Data Preprocessing\n",
    "### 1) Handling missing data - mandatory (because algorithm will not work with missing data)\n",
    "### 2) Encoding (Char to Num) - only required when variable is significant (understanding and by the help of P-Value)\n",
    "### 3) Outlier Treatement - Linear Regression problem (it's mandatory)¶\n",
    "### 4) Feature Scaling - to scale independent variable only (also, please note that if you use gradient descent/KNN/SVM etc then you have to use feature scaling techniques.)¶"
   ]
  },
  {
   "cell_type": "code",
   "execution_count": 6,
   "id": "e2e7e842",
   "metadata": {},
   "outputs": [
    {
     "data": {
      "text/plain": [
       "Avg. Area Income                10\n",
       "Avg. Area House Age              0\n",
       "Avg. Area Number of Rooms        5\n",
       "Avg. Area Number of Bedrooms     6\n",
       "Area Population                  0\n",
       "Price                            0\n",
       "Address                          0\n",
       "dtype: int64"
      ]
     },
     "execution_count": 6,
     "metadata": {},
     "output_type": "execute_result"
    }
   ],
   "source": [
    "# missing value treatment\n",
    "\n",
    "Housing.isnull().sum()"
   ]
  },
  {
   "cell_type": "code",
   "execution_count": 7,
   "id": "9bcdba29",
   "metadata": {},
   "outputs": [
    {
     "data": {
      "text/plain": [
       "Avg. Area Income                0.20\n",
       "Avg. Area House Age             0.00\n",
       "Avg. Area Number of Rooms       0.10\n",
       "Avg. Area Number of Bedrooms    0.12\n",
       "Area Population                 0.00\n",
       "Price                           0.00\n",
       "Address                         0.00\n",
       "dtype: float64"
      ]
     },
     "execution_count": 7,
     "metadata": {},
     "output_type": "execute_result"
    }
   ],
   "source": [
    "Housing.isnull().sum()/len(Housing)*100  # take approval from buisness whether to impute the data or remove "
   ]
  },
  {
   "cell_type": "code",
   "execution_count": 8,
   "id": "c98ee670",
   "metadata": {},
   "outputs": [
    {
     "data": {
      "image/png": "[encoded data removed]",
      "text/plain": [
       "<Figure size 432x288 with 1 Axes>"
      ]
     },
     "metadata": {},
     "output_type": "display_data"
    }
   ],
   "source": [
    "# To impute the data first check whether to impute it with mean or median for that check the outliers . if outliers are present replace with median else go with mean.\n",
    "\n",
    "sns.boxplot(y='Avg. Area Income' , data = Housing)\n",
    "plt.show()"
   ]
  },
  {
   "cell_type": "code",
   "execution_count": 9,
   "id": "d8577074",
   "metadata": {},
   "outputs": [],
   "source": [
    "Housing['Avg. Area Income'] = Housing['Avg. Area Income'].fillna(Housing['Avg. Area Income'].median())"
   ]
  },
  {
   "cell_type": "code",
   "execution_count": 10,
   "id": "512fc229",
   "metadata": {},
   "outputs": [
    {
     "data": {
      "text/plain": [
       "Avg. Area Income                0\n",
       "Avg. Area House Age             0\n",
       "Avg. Area Number of Rooms       5\n",
       "Avg. Area Number of Bedrooms    6\n",
       "Area Population                 0\n",
       "Price                           0\n",
       "Address                         0\n",
       "dtype: int64"
      ]
     },
     "execution_count": 10,
     "metadata": {},
     "output_type": "execute_result"
    }
   ],
   "source": [
    "Housing.isnull().sum()"
   ]
  },
  {
   "cell_type": "code",
   "execution_count": 11,
   "id": "b63dee41",
   "metadata": {},
   "outputs": [
    {
     "data": {
      "text/html": [
       "<div>\n",
       "<style scoped>\n",
       "    .dataframe tbody tr th:only-of-type {\n",
       "        vertical-align: middle;\n",
       "    }\n",
       "\n",
       "    .dataframe tbody tr th {\n",
       "        vertical-align: top;\n",
       "    }\n",
       "\n",
       "    .dataframe thead th {\n",
       "        text-align: right;\n",
       "    }\n",
       "</style>\n",
       "<table border=\"1\" class=\"dataframe\">\n",
       "  <thead>\n",
       "    <tr style=\"text-align: right;\">\n",
       "      <th></th>\n",
       "      <th>Avg. Area Income</th>\n",
       "      <th>Avg. Area House Age</th>\n",
       "      <th>Avg. Area Number of Rooms</th>\n",
       "      <th>Avg. Area Number of Bedrooms</th>\n",
       "      <th>Area Population</th>\n",
       "      <th>Price</th>\n",
       "      <th>Address</th>\n",
       "    </tr>\n",
       "  </thead>\n",
       "  <tbody>\n",
       "    <tr>\n",
       "      <th>0</th>\n",
       "      <td>79545.45857</td>\n",
       "      <td>5.682861</td>\n",
       "      <td>7.009188</td>\n",
       "      <td>4.09</td>\n",
       "      <td>23086.80050</td>\n",
       "      <td>1.059034e+06</td>\n",
       "      <td>208 Michael Ferry Apt. 674\\nLaurabury, NE 3701...</td>\n",
       "    </tr>\n",
       "    <tr>\n",
       "      <th>1</th>\n",
       "      <td>79248.64245</td>\n",
       "      <td>6.002900</td>\n",
       "      <td>6.730821</td>\n",
       "      <td>3.09</td>\n",
       "      <td>40173.07217</td>\n",
       "      <td>1.505891e+06</td>\n",
       "      <td>188 Johnson Views Suite 079\\nLake Kathleen, CA...</td>\n",
       "    </tr>\n",
       "    <tr>\n",
       "      <th>2</th>\n",
       "      <td>61287.06718</td>\n",
       "      <td>5.865890</td>\n",
       "      <td>8.512727</td>\n",
       "      <td>5.13</td>\n",
       "      <td>36882.15940</td>\n",
       "      <td>1.058988e+06</td>\n",
       "      <td>9127 Elizabeth Stravenue\\nDanieltown, WI 06482...</td>\n",
       "    </tr>\n",
       "    <tr>\n",
       "      <th>3</th>\n",
       "      <td>63345.24005</td>\n",
       "      <td>7.188236</td>\n",
       "      <td>5.586729</td>\n",
       "      <td>3.26</td>\n",
       "      <td>34310.24283</td>\n",
       "      <td>1.260617e+06</td>\n",
       "      <td>USS Barnett\\nFPO AP 44820</td>\n",
       "    </tr>\n",
       "    <tr>\n",
       "      <th>4</th>\n",
       "      <td>59982.19723</td>\n",
       "      <td>5.040555</td>\n",
       "      <td>7.839388</td>\n",
       "      <td>4.23</td>\n",
       "      <td>26354.10947</td>\n",
       "      <td>6.309435e+05</td>\n",
       "      <td>USNS Raymond\\nFPO AE 09386</td>\n",
       "    </tr>\n",
       "  </tbody>\n",
       "</table>\n",
       "</div>"
      ],
      "text/plain": [
       "   Avg. Area Income  Avg. Area House Age  Avg. Area Number of Rooms  \\\n",
       "0       79545.45857             5.682861                   7.009188   \n",
       "1       79248.64245             6.002900                   6.730821   \n",
       "2       61287.06718             5.865890                   8.512727   \n",
       "3       63345.24005             7.188236                   5.586729   \n",
       "4       59982.19723             5.040555                   7.839388   \n",
       "\n",
       "   Avg. Area Number of Bedrooms  Area Population         Price  \\\n",
       "0                          4.09      23086.80050  1.059034e+06   \n",
       "1                          3.09      40173.07217  1.505891e+06   \n",
       "2                          5.13      36882.15940  1.058988e+06   \n",
       "3                          3.26      34310.24283  1.260617e+06   \n",
       "4                          4.23      26354.10947  6.309435e+05   \n",
       "\n",
       "                                             Address  \n",
       "0  208 Michael Ferry Apt. 674\\nLaurabury, NE 3701...  \n",
       "1  188 Johnson Views Suite 079\\nLake Kathleen, CA...  \n",
       "2  9127 Elizabeth Stravenue\\nDanieltown, WI 06482...  \n",
       "3                          USS Barnett\\nFPO AP 44820  \n",
       "4                         USNS Raymond\\nFPO AE 09386  "
      ]
     },
     "execution_count": 11,
     "metadata": {},
     "output_type": "execute_result"
    }
   ],
   "source": [
    "Housing.head()"
   ]
  },
  {
   "cell_type": "code",
   "execution_count": 12,
   "id": "5f8b3ba7",
   "metadata": {},
   "outputs": [
    {
     "data": {
      "image/png": "[encoded data removed]",
      "text/plain": [
       "<Figure size 432x288 with 1 Axes>"
      ]
     },
     "metadata": {},
     "output_type": "display_data"
    }
   ],
   "source": [
    "sns.boxplot(y='Avg. Area Number of Rooms' , data = Housing)\n",
    "plt.show()"
   ]
  },
  {
   "cell_type": "code",
   "execution_count": 13,
   "id": "561b6ae1",
   "metadata": {},
   "outputs": [],
   "source": [
    "Housing['Avg. Area Number of Rooms'] = Housing['Avg. Area Number of Rooms'].fillna(Housing['Avg. Area Number of Rooms'].median())"
   ]
  },
  {
   "cell_type": "code",
   "execution_count": 14,
   "id": "01b4078f",
   "metadata": {},
   "outputs": [
    {
     "data": {
      "image/png": "[encoded data removed]",
      "text/plain": [
       "<Figure size 432x288 with 1 Axes>"
      ]
     },
     "metadata": {},
     "output_type": "display_data"
    }
   ],
   "source": [
    "sns.boxplot(y='Avg. Area Number of Bedrooms' , data = Housing)\n",
    "plt.show()"
   ]
  },
  {
   "cell_type": "code",
   "execution_count": 15,
   "id": "c708111a",
   "metadata": {},
   "outputs": [],
   "source": [
    "Housing['Avg. Area Number of Bedrooms'] = Housing['Avg. Area Number of Bedrooms'].fillna(Housing['Avg. Area Number of Bedrooms'].mean())"
   ]
  },
  {
   "cell_type": "code",
   "execution_count": 16,
   "id": "675bd434",
   "metadata": {},
   "outputs": [
    {
     "data": {
      "text/plain": [
       "Avg. Area Income                0\n",
       "Avg. Area House Age             0\n",
       "Avg. Area Number of Rooms       0\n",
       "Avg. Area Number of Bedrooms    0\n",
       "Area Population                 0\n",
       "Price                           0\n",
       "Address                         0\n",
       "dtype: int64"
      ]
     },
     "execution_count": 16,
     "metadata": {},
     "output_type": "execute_result"
    }
   ],
   "source": [
    "Housing.isnull().sum()"
   ]
  },
  {
   "cell_type": "code",
   "execution_count": 17,
   "id": "4159543f",
   "metadata": {},
   "outputs": [
    {
     "name": "stdout",
     "output_type": "stream",
     "text": [
      "<class 'pandas.core.frame.DataFrame'>\n",
      "RangeIndex: 5000 entries, 0 to 4999\n",
      "Data columns (total 7 columns):\n",
      " #   Column                        Non-Null Count  Dtype  \n",
      "---  ------                        --------------  -----  \n",
      " 0   Avg. Area Income              5000 non-null   float64\n",
      " 1   Avg. Area House Age           5000 non-null   float64\n",
      " 2   Avg. Area Number of Rooms     5000 non-null   float64\n",
      " 3   Avg. Area Number of Bedrooms  5000 non-null   float64\n",
      " 4   Area Population               5000 non-null   float64\n",
      " 5   Price                         5000 non-null   float64\n",
      " 6   Address                       5000 non-null   object \n",
      "dtypes: float64(6), object(1)\n",
      "memory usage: 273.6+ KB\n"
     ]
    }
   ],
   "source": [
    "Housing.info()"
   ]
  },
  {
   "cell_type": "markdown",
   "id": "91609382",
   "metadata": {},
   "source": [
    "# Encoding\n",
    "### if you check above cell you will see address parameter dtype is object but here address information is already available hence dropping this column so no need of encoding here"
   ]
  },
  {
   "cell_type": "code",
   "execution_count": 18,
   "id": "47983410",
   "metadata": {},
   "outputs": [],
   "source": [
    "Housing  = Housing.iloc[:,0:-1]"
   ]
  },
  {
   "cell_type": "code",
   "execution_count": 19,
   "id": "5a4246ac",
   "metadata": {},
   "outputs": [
    {
     "data": {
      "text/html": [
       "<div>\n",
       "<style scoped>\n",
       "    .dataframe tbody tr th:only-of-type {\n",
       "        vertical-align: middle;\n",
       "    }\n",
       "\n",
       "    .dataframe tbody tr th {\n",
       "        vertical-align: top;\n",
       "    }\n",
       "\n",
       "    .dataframe thead th {\n",
       "        text-align: right;\n",
       "    }\n",
       "</style>\n",
       "<table border=\"1\" class=\"dataframe\">\n",
       "  <thead>\n",
       "    <tr style=\"text-align: right;\">\n",
       "      <th></th>\n",
       "      <th>Avg. Area Income</th>\n",
       "      <th>Avg. Area House Age</th>\n",
       "      <th>Avg. Area Number of Rooms</th>\n",
       "      <th>Avg. Area Number of Bedrooms</th>\n",
       "      <th>Area Population</th>\n",
       "      <th>Price</th>\n",
       "    </tr>\n",
       "  </thead>\n",
       "  <tbody>\n",
       "    <tr>\n",
       "      <th>count</th>\n",
       "      <td>5000.000000</td>\n",
       "      <td>5000.000000</td>\n",
       "      <td>5000.000000</td>\n",
       "      <td>5000.000000</td>\n",
       "      <td>5000.000000</td>\n",
       "      <td>5.000000e+03</td>\n",
       "    </tr>\n",
       "    <tr>\n",
       "      <th>mean</th>\n",
       "      <td>68585.145895</td>\n",
       "      <td>5.977222</td>\n",
       "      <td>6.987708</td>\n",
       "      <td>3.981874</td>\n",
       "      <td>36163.516039</td>\n",
       "      <td>1.232073e+06</td>\n",
       "    </tr>\n",
       "    <tr>\n",
       "      <th>std</th>\n",
       "      <td>10640.538021</td>\n",
       "      <td>0.991456</td>\n",
       "      <td>1.005435</td>\n",
       "      <td>1.233756</td>\n",
       "      <td>9925.650114</td>\n",
       "      <td>3.531176e+05</td>\n",
       "    </tr>\n",
       "    <tr>\n",
       "      <th>min</th>\n",
       "      <td>17796.631190</td>\n",
       "      <td>2.644304</td>\n",
       "      <td>3.236194</td>\n",
       "      <td>2.000000</td>\n",
       "      <td>172.610686</td>\n",
       "      <td>1.593866e+04</td>\n",
       "    </tr>\n",
       "    <tr>\n",
       "      <th>25%</th>\n",
       "      <td>61485.150192</td>\n",
       "      <td>5.322283</td>\n",
       "      <td>6.299692</td>\n",
       "      <td>3.140000</td>\n",
       "      <td>29403.928700</td>\n",
       "      <td>9.975771e+05</td>\n",
       "    </tr>\n",
       "    <tr>\n",
       "      <th>50%</th>\n",
       "      <td>68797.671885</td>\n",
       "      <td>5.970429</td>\n",
       "      <td>7.002940</td>\n",
       "      <td>4.050000</td>\n",
       "      <td>36199.406690</td>\n",
       "      <td>1.232669e+06</td>\n",
       "    </tr>\n",
       "    <tr>\n",
       "      <th>75%</th>\n",
       "      <td>75766.519103</td>\n",
       "      <td>6.650808</td>\n",
       "      <td>7.665281</td>\n",
       "      <td>4.490000</td>\n",
       "      <td>42861.290770</td>\n",
       "      <td>1.471210e+06</td>\n",
       "    </tr>\n",
       "    <tr>\n",
       "      <th>max</th>\n",
       "      <td>107701.748400</td>\n",
       "      <td>9.519088</td>\n",
       "      <td>10.759588</td>\n",
       "      <td>6.500000</td>\n",
       "      <td>69621.713380</td>\n",
       "      <td>2.469066e+06</td>\n",
       "    </tr>\n",
       "  </tbody>\n",
       "</table>\n",
       "</div>"
      ],
      "text/plain": [
       "       Avg. Area Income  Avg. Area House Age  Avg. Area Number of Rooms  \\\n",
       "count       5000.000000          5000.000000                5000.000000   \n",
       "mean       68585.145895             5.977222                   6.987708   \n",
       "std        10640.538021             0.991456                   1.005435   \n",
       "min        17796.631190             2.644304                   3.236194   \n",
       "25%        61485.150192             5.322283                   6.299692   \n",
       "50%        68797.671885             5.970429                   7.002940   \n",
       "75%        75766.519103             6.650808                   7.665281   \n",
       "max       107701.748400             9.519088                  10.759588   \n",
       "\n",
       "       Avg. Area Number of Bedrooms  Area Population         Price  \n",
       "count                   5000.000000      5000.000000  5.000000e+03  \n",
       "mean                       3.981874     36163.516039  1.232073e+06  \n",
       "std                        1.233756      9925.650114  3.531176e+05  \n",
       "min                        2.000000       172.610686  1.593866e+04  \n",
       "25%                        3.140000     29403.928700  9.975771e+05  \n",
       "50%                        4.050000     36199.406690  1.232669e+06  \n",
       "75%                        4.490000     42861.290770  1.471210e+06  \n",
       "max                        6.500000     69621.713380  2.469066e+06  "
      ]
     },
     "execution_count": 19,
     "metadata": {},
     "output_type": "execute_result"
    }
   ],
   "source": [
    "Housing.describe()"
   ]
  },
  {
   "cell_type": "markdown",
   "id": "525076cc",
   "metadata": {},
   "source": [
    "# Outlier Treatments"
   ]
  },
  {
   "cell_type": "code",
   "execution_count": 20,
   "id": "fa340a3e",
   "metadata": {},
   "outputs": [
    {
     "data": {
      "image/png": "[encoded data removed]",
      "text/plain": [
       "<Figure size 432x288 with 1 Axes>"
      ]
     },
     "metadata": {},
     "output_type": "display_data"
    },
    {
     "data": {
      "image/png": "[encoded data removed]",
      "text/plain": [
       "<Figure size 432x288 with 1 Axes>"
      ]
     },
     "metadata": {},
     "output_type": "display_data"
    },
    {
     "data": {
      "image/png": "[encoded data removed]",
      "text/plain": [
       "<Figure size 432x288 with 1 Axes>"
      ]
     },
     "metadata": {},
     "output_type": "display_data"
    },
    {
     "data": {
      "image/png": "[encoded data removed]",
      "text/plain": [
       "<Figure size 432x288 with 1 Axes>"
      ]
     },
     "metadata": {},
     "output_type": "display_data"
    },
    {
     "data": {
      "image/png": "[encoded data removed]",
      "text/plain": [
       "<Figure size 432x288 with 1 Axes>"
      ]
     },
     "metadata": {},
     "output_type": "display_data"
    },
    {
     "data": {
      "image/png": "[encoded data removed]",
      "text/plain": [
       "<Figure size 432x288 with 1 Axes>"
      ]
     },
     "metadata": {},
     "output_type": "display_data"
    }
   ],
   "source": [
    "def distplots(col):\n",
    "    sns.distplot(Housing[col])\n",
    "    plt.show()\n",
    "    \n",
    "for i in list(Housing.columns) [0:]:\n",
    "    distplots(i)"
   ]
  },
  {
   "cell_type": "code",
   "execution_count": 21,
   "id": "b743db2a",
   "metadata": {},
   "outputs": [
    {
     "data": {
      "image/png": "[encoded data removed]",
      "text/plain": [
       "<Figure size 432x288 with 1 Axes>"
      ]
     },
     "metadata": {},
     "output_type": "display_data"
    },
    {
     "data": {
      "image/png": "[encoded data removed]",
      "text/plain": [
       "<Figure size 432x288 with 1 Axes>"
      ]
     },
     "metadata": {},
     "output_type": "display_data"
    },
    {
     "data": {
      "image/png": "[encoded data removed]",
      "text/plain": [
       "<Figure size 432x288 with 1 Axes>"
      ]
     },
     "metadata": {},
     "output_type": "display_data"
    },
    {
     "data": {
      "image/png": "[encoded data removed]",
      "text/plain": [
       "<Figure size 432x288 with 1 Axes>"
      ]
     },
     "metadata": {},
     "output_type": "display_data"
    },
    {
     "data": {
      "image/png": "[encoded data removed]",
      "text/plain": [
       "<Figure size 432x288 with 1 Axes>"
      ]
     },
     "metadata": {},
     "output_type": "display_data"
    },
    {
     "data": {
      "image/png": "[encoded data removed]",
      "text/plain": [
       "<Figure size 432x288 with 1 Axes>"
      ]
     },
     "metadata": {},
     "output_type": "display_data"
    }
   ],
   "source": [
    "def boxplt(col):\n",
    "    sns.boxplot(Housing[col])\n",
    "    plt.show()\n",
    "    \n",
    "for i in list(Housing.select_dtypes(exclude=['object']).columns)[0:]:\n",
    "    boxplt(i)"
   ]
  },
  {
   "cell_type": "code",
   "execution_count": 22,
   "id": "5708485c",
   "metadata": {},
   "outputs": [
    {
     "data": {
      "text/plain": [
       "Avg. Area Income                float64\n",
       "Avg. Area House Age             float64\n",
       "Avg. Area Number of Rooms       float64\n",
       "Avg. Area Number of Bedrooms    float64\n",
       "Area Population                 float64\n",
       "Price                           float64\n",
       "dtype: object"
      ]
     },
     "execution_count": 22,
     "metadata": {},
     "output_type": "execute_result"
    }
   ],
   "source": [
    "Housing.dtypes"
   ]
  },
  {
   "cell_type": "markdown",
   "id": "525aad9f",
   "metadata": {},
   "source": [
    "# From chart we can see that outliers are present in data so need to use capping to handle this outliers\n",
    "### we will handle the outliers by using box plot and 5 point summery¶\n",
    "### positive outliers or max value = Q3 + 1.5* IQR (anything beyond this value consider a positive outliers) \n",
    "### Negative outliers or min value = Q1 - 1.5* IQR (anything beyond this value consider a negative outliers)"
   ]
  },
  {
   "cell_type": "code",
   "execution_count": 23,
   "id": "fbd94666",
   "metadata": {
    "scrolled": true
   },
   "outputs": [
    {
     "name": "stdout",
     "output_type": "stream",
     "text": [
      "Q1\n",
      "Avg. Area Income                 61485.150192\n",
      "Avg. Area House Age                  5.322283\n",
      "Avg. Area Number of Rooms            6.299692\n",
      "Avg. Area Number of Bedrooms         3.140000\n",
      "Area Population                  29403.928700\n",
      "Price                           997577.135075\n",
      "Name: 0.25, dtype: float64\n",
      "**********************\n",
      "Q3\n",
      "Avg. Area Income                7.576652e+04\n",
      "Avg. Area House Age             6.650808e+00\n",
      "Avg. Area Number of Rooms       7.665281e+00\n",
      "Avg. Area Number of Bedrooms    4.490000e+00\n",
      "Area Population                 4.286129e+04\n",
      "Price                           1.471210e+06\n",
      "Name: 0.75, dtype: float64\n",
      "**********************\n",
      "IQR\n",
      "Avg. Area Income                 14281.368910\n",
      "Avg. Area House Age                  1.328525\n",
      "Avg. Area Number of Rooms            1.365589\n",
      "Avg. Area Number of Bedrooms         1.350000\n",
      "Area Population                  13457.362070\n",
      "Price                           473633.069425\n",
      "dtype: float64\n",
      "**********************\n",
      "Positive_Outliers\n",
      "Avg. Area Income                9.718857e+04\n",
      "Avg. Area House Age             8.643597e+00\n",
      "Avg. Area Number of Rooms       9.713664e+00\n",
      "Avg. Area Number of Bedrooms    6.515000e+00\n",
      "Area Population                 6.304733e+04\n",
      "Price                           2.181660e+06\n",
      "dtype: float64\n",
      "**********************\n",
      "negative_Outliers\n",
      "Avg. Area Income                 40063.096827\n",
      "Avg. Area House Age                  3.329495\n",
      "Avg. Area Number of Rooms            4.251308\n",
      "Avg. Area Number of Bedrooms         1.115000\n",
      "Area Population                   9217.885595\n",
      "Price                           287127.530937\n",
      "dtype: float64\n",
      "**********************\n"
     ]
    }
   ],
   "source": [
    "Q1 = Housing.quantile(0.25)\n",
    "Q3 = Housing.quantile(0.75)\n",
    "IQR = Q3 - Q1\n",
    "\n",
    "positive_Outliers = Q3 + 1.5 * IQR\n",
    "negative_Outliers = Q1 - 1.5 * IQR\n",
    "\n",
    "print(\"Q1\")\n",
    "print(Q1)\n",
    "print(\"**********************\")\n",
    "print(\"Q3\")\n",
    "print(Q3)\n",
    "print(\"**********************\")\n",
    "print(\"IQR\")\n",
    "print(IQR)\n",
    "print(\"**********************\")\n",
    "print(\"Positive_Outliers\")\n",
    "print(positive_Outliers)\n",
    "print(\"**********************\")\n",
    "print(\"negative_Outliers\")\n",
    "print(negative_Outliers)\n",
    "print(\"**********************\")"
   ]
  },
  {
   "cell_type": "markdown",
   "id": "90e78c1c",
   "metadata": {},
   "source": [
    "# Avg. Area Income "
   ]
  },
  {
   "cell_type": "code",
   "execution_count": 24,
   "id": "342b4f5e",
   "metadata": {},
   "outputs": [],
   "source": [
    "income_q1 = Housing['Avg. Area Income'].quantile(0.25)\n",
    "income_q3 = Housing['Avg. Area Income'].quantile(0.75)\n",
    "income_iqr =income_q3 - income_q1\n",
    "lower_limit = income_q1 - 1.5*income_iqr\n",
    "upper_limit = income_q3  + 1.5 * income_iqr"
   ]
  },
  {
   "cell_type": "code",
   "execution_count": 25,
   "id": "03dd0a83",
   "metadata": {},
   "outputs": [],
   "source": [
    "Housing['Avg. Area Income'] = np.where(Housing['Avg. Area Income'] > upper_limit ,upper_limit,\n",
    "                                       np.where(Housing['Avg. Area Income'] < lower_limit ,lower_limit,\n",
    "                                                 Housing['Avg. Area Income']))"
   ]
  },
  {
   "cell_type": "code",
   "execution_count": 26,
   "id": "b5432fb2",
   "metadata": {},
   "outputs": [
    {
     "data": {
      "image/png": "[encoded data removed]",
      "text/plain": [
       "<Figure size 432x288 with 1 Axes>"
      ]
     },
     "metadata": {},
     "output_type": "display_data"
    }
   ],
   "source": [
    "sns.boxplot(y ='Avg. Area Income', data=Housing)\n",
    "plt.show()"
   ]
  },
  {
   "cell_type": "markdown",
   "id": "e9f298c1",
   "metadata": {},
   "source": [
    "# Avg. Area House Age"
   ]
  },
  {
   "cell_type": "code",
   "execution_count": 27,
   "id": "9cfd97b6",
   "metadata": {},
   "outputs": [],
   "source": [
    "income_q1 = Housing['Avg. Area House Age'].quantile(0.25)\n",
    "income_q3 = Housing['Avg. Area House Age'].quantile(0.75)\n",
    "income_iqr =income_q3 - income_q1\n",
    "lower_limit = income_q1 - 1.5*income_iqr\n",
    "upper_limit = income_q3  + 1.5 * income_iqr"
   ]
  },
  {
   "cell_type": "code",
   "execution_count": 28,
   "id": "364a7963",
   "metadata": {},
   "outputs": [],
   "source": [
    "Housing['Avg. Area House Age'] = np.where(Housing['Avg. Area House Age'] > upper_limit, upper_limit,\n",
    "                                      np.where(Housing['Avg. Area House Age'] < lower_limit,\n",
    "                                              lower_limit, Housing['Avg. Area House Age']))"
   ]
  },
  {
   "cell_type": "code",
   "execution_count": 29,
   "id": "3251cab9",
   "metadata": {},
   "outputs": [
    {
     "data": {
      "image/png": "[encoded data removed]",
      "text/plain": [
       "<Figure size 432x288 with 1 Axes>"
      ]
     },
     "metadata": {},
     "output_type": "display_data"
    }
   ],
   "source": [
    "sns.boxplot(y ='Avg. Area House Age', data=Housing)\n",
    "plt.show()"
   ]
  },
  {
   "cell_type": "markdown",
   "id": "eefbe587",
   "metadata": {},
   "source": [
    "# Avg. Area Number of Rooms"
   ]
  },
  {
   "cell_type": "code",
   "execution_count": 30,
   "id": "ba128b95",
   "metadata": {},
   "outputs": [],
   "source": [
    "income_q1 = Housing['Avg. Area Number of Rooms'].quantile(0.25)\n",
    "income_q3 = Housing['Avg. Area Number of Rooms'].quantile(0.75)\n",
    "income_iqr =income_q3 - income_q1\n",
    "lower_limit = income_q1 - 1.5*income_iqr\n",
    "upper_limit = income_q3  + 1.5 * income_iqr"
   ]
  },
  {
   "cell_type": "code",
   "execution_count": 31,
   "id": "b90cab61",
   "metadata": {},
   "outputs": [],
   "source": [
    "Housing['Avg. Area Number of Rooms'] = np.where(Housing['Avg. Area Number of Rooms'] > upper_limit, upper_limit,\n",
    "                                      np.where(Housing['Avg. Area Number of Rooms'] < lower_limit,\n",
    "                                              lower_limit, Housing['Avg. Area Number of Rooms']))"
   ]
  },
  {
   "cell_type": "code",
   "execution_count": 32,
   "id": "9c11b21b",
   "metadata": {},
   "outputs": [
    {
     "data": {
      "image/png": "[encoded data removed]",
      "text/plain": [
       "<Figure size 432x288 with 1 Axes>"
      ]
     },
     "metadata": {},
     "output_type": "display_data"
    }
   ],
   "source": [
    "sns.boxplot(y ='Avg. Area Number of Rooms', data=Housing)\n",
    "plt.show()"
   ]
  },
  {
   "cell_type": "markdown",
   "id": "f8128232",
   "metadata": {},
   "source": [
    "# Area Population"
   ]
  },
  {
   "cell_type": "code",
   "execution_count": 33,
   "id": "f5698616",
   "metadata": {},
   "outputs": [],
   "source": [
    "income_q1 = Housing['Area Population'].quantile(0.25)\n",
    "income_q3 = Housing['Area Population'].quantile(0.75)\n",
    "income_iqr =income_q3 - income_q1\n",
    "lower_limit = income_q1 - 1.5*income_iqr\n",
    "upper_limit = income_q3  + 1.5 * income_iqr"
   ]
  },
  {
   "cell_type": "code",
   "execution_count": 34,
   "id": "6f75a7d9",
   "metadata": {},
   "outputs": [],
   "source": [
    "Housing['Area Population'] = np.where(Housing['Area Population'] > upper_limit, upper_limit,\n",
    "                                      np.where(Housing['Area Population'] < lower_limit,\n",
    "                                              lower_limit, Housing['Area Population']))"
   ]
  },
  {
   "cell_type": "code",
   "execution_count": 35,
   "id": "338c8545",
   "metadata": {},
   "outputs": [
    {
     "data": {
      "image/png": "[encoded data removed]",
      "text/plain": [
       "<Figure size 432x288 with 1 Axes>"
      ]
     },
     "metadata": {},
     "output_type": "display_data"
    }
   ],
   "source": [
    "sns.boxplot(y='Area Population',data= Housing)\n",
    "plt.show()"
   ]
  },
  {
   "cell_type": "markdown",
   "id": "5ace622d",
   "metadata": {},
   "source": [
    "# Feature scaling "
   ]
  },
  {
   "cell_type": "code",
   "execution_count": 36,
   "id": "b7a9530c",
   "metadata": {},
   "outputs": [
    {
     "data": {
      "text/html": [
       "<div>\n",
       "<style scoped>\n",
       "    .dataframe tbody tr th:only-of-type {\n",
       "        vertical-align: middle;\n",
       "    }\n",
       "\n",
       "    .dataframe tbody tr th {\n",
       "        vertical-align: top;\n",
       "    }\n",
       "\n",
       "    .dataframe thead th {\n",
       "        text-align: right;\n",
       "    }\n",
       "</style>\n",
       "<table border=\"1\" class=\"dataframe\">\n",
       "  <thead>\n",
       "    <tr style=\"text-align: right;\">\n",
       "      <th></th>\n",
       "      <th>Avg. Area Income</th>\n",
       "      <th>Avg. Area House Age</th>\n",
       "      <th>Avg. Area Number of Rooms</th>\n",
       "      <th>Avg. Area Number of Bedrooms</th>\n",
       "      <th>Area Population</th>\n",
       "      <th>Price</th>\n",
       "    </tr>\n",
       "  </thead>\n",
       "  <tbody>\n",
       "    <tr>\n",
       "      <th>0</th>\n",
       "      <td>79545.45857</td>\n",
       "      <td>5.682861</td>\n",
       "      <td>7.009188</td>\n",
       "      <td>4.09</td>\n",
       "      <td>23086.8005</td>\n",
       "      <td>1059033.558</td>\n",
       "    </tr>\n",
       "  </tbody>\n",
       "</table>\n",
       "</div>"
      ],
      "text/plain": [
       "   Avg. Area Income  Avg. Area House Age  Avg. Area Number of Rooms  \\\n",
       "0       79545.45857             5.682861                   7.009188   \n",
       "\n",
       "   Avg. Area Number of Bedrooms  Area Population        Price  \n",
       "0                          4.09       23086.8005  1059033.558  "
      ]
     },
     "execution_count": 36,
     "metadata": {},
     "output_type": "execute_result"
    }
   ],
   "source": [
    "#for feature scaling first we will divide the data into independent variable x and dependent varianle y\n",
    "Housing.head(1)\n"
   ]
  },
  {
   "cell_type": "code",
   "execution_count": 37,
   "id": "7ce13135",
   "metadata": {},
   "outputs": [],
   "source": [
    "x = Housing.iloc[0: ,0:-1]\n",
    "y = Housing.iloc[: ,-1]"
   ]
  },
  {
   "cell_type": "code",
   "execution_count": 38,
   "id": "d65c135e",
   "metadata": {},
   "outputs": [
    {
     "data": {
      "text/html": [
       "<div>\n",
       "<style scoped>\n",
       "    .dataframe tbody tr th:only-of-type {\n",
       "        vertical-align: middle;\n",
       "    }\n",
       "\n",
       "    .dataframe tbody tr th {\n",
       "        vertical-align: top;\n",
       "    }\n",
       "\n",
       "    .dataframe thead th {\n",
       "        text-align: right;\n",
       "    }\n",
       "</style>\n",
       "<table border=\"1\" class=\"dataframe\">\n",
       "  <thead>\n",
       "    <tr style=\"text-align: right;\">\n",
       "      <th></th>\n",
       "      <th>Avg. Area Income</th>\n",
       "      <th>Avg. Area House Age</th>\n",
       "      <th>Avg. Area Number of Rooms</th>\n",
       "      <th>Avg. Area Number of Bedrooms</th>\n",
       "      <th>Area Population</th>\n",
       "    </tr>\n",
       "  </thead>\n",
       "  <tbody>\n",
       "    <tr>\n",
       "      <th>0</th>\n",
       "      <td>79545.45857</td>\n",
       "      <td>5.682861</td>\n",
       "      <td>7.009188</td>\n",
       "      <td>4.09</td>\n",
       "      <td>23086.80050</td>\n",
       "    </tr>\n",
       "    <tr>\n",
       "      <th>1</th>\n",
       "      <td>79248.64245</td>\n",
       "      <td>6.002900</td>\n",
       "      <td>6.730821</td>\n",
       "      <td>3.09</td>\n",
       "      <td>40173.07217</td>\n",
       "    </tr>\n",
       "  </tbody>\n",
       "</table>\n",
       "</div>"
      ],
      "text/plain": [
       "   Avg. Area Income  Avg. Area House Age  Avg. Area Number of Rooms  \\\n",
       "0       79545.45857             5.682861                   7.009188   \n",
       "1       79248.64245             6.002900                   6.730821   \n",
       "\n",
       "   Avg. Area Number of Bedrooms  Area Population  \n",
       "0                          4.09      23086.80050  \n",
       "1                          3.09      40173.07217  "
      ]
     },
     "execution_count": 38,
     "metadata": {},
     "output_type": "execute_result"
    }
   ],
   "source": [
    "x.head(2)"
   ]
  },
  {
   "cell_type": "code",
   "execution_count": 39,
   "id": "e31c3318",
   "metadata": {},
   "outputs": [
    {
     "data": {
      "text/plain": [
       "0    1059033.558\n",
       "1    1505890.915\n",
       "Name: Price, dtype: float64"
      ]
     },
     "execution_count": 39,
     "metadata": {},
     "output_type": "execute_result"
    }
   ],
   "source": [
    "y.head(2)"
   ]
  },
  {
   "cell_type": "code",
   "execution_count": 40,
   "id": "8f16ad25",
   "metadata": {},
   "outputs": [
    {
     "data": {
      "text/html": [
       "<div>\n",
       "<style scoped>\n",
       "    .dataframe tbody tr th:only-of-type {\n",
       "        vertical-align: middle;\n",
       "    }\n",
       "\n",
       "    .dataframe tbody tr th {\n",
       "        vertical-align: top;\n",
       "    }\n",
       "\n",
       "    .dataframe thead th {\n",
       "        text-align: right;\n",
       "    }\n",
       "</style>\n",
       "<table border=\"1\" class=\"dataframe\">\n",
       "  <thead>\n",
       "    <tr style=\"text-align: right;\">\n",
       "      <th></th>\n",
       "      <th>0</th>\n",
       "      <th>1</th>\n",
       "      <th>2</th>\n",
       "      <th>3</th>\n",
       "      <th>4</th>\n",
       "    </tr>\n",
       "  </thead>\n",
       "  <tbody>\n",
       "    <tr>\n",
       "      <th>0</th>\n",
       "      <td>1.036382</td>\n",
       "      <td>-0.298541</td>\n",
       "      <td>0.021620</td>\n",
       "      <td>0.087648</td>\n",
       "      <td>-1.325622</td>\n",
       "    </tr>\n",
       "    <tr>\n",
       "      <th>1</th>\n",
       "      <td>1.008309</td>\n",
       "      <td>0.025747</td>\n",
       "      <td>-0.256381</td>\n",
       "      <td>-0.722966</td>\n",
       "      <td>0.407049</td>\n",
       "    </tr>\n",
       "    <tr>\n",
       "      <th>2</th>\n",
       "      <td>-0.690457</td>\n",
       "      <td>-0.113082</td>\n",
       "      <td>1.523179</td>\n",
       "      <td>0.930687</td>\n",
       "      <td>0.073326</td>\n",
       "    </tr>\n",
       "    <tr>\n",
       "      <th>3</th>\n",
       "      <td>-0.495800</td>\n",
       "      <td>1.226822</td>\n",
       "      <td>-1.398967</td>\n",
       "      <td>-0.585161</td>\n",
       "      <td>-0.187484</td>\n",
       "    </tr>\n",
       "    <tr>\n",
       "      <th>4</th>\n",
       "      <td>-0.813869</td>\n",
       "      <td>-0.949376</td>\n",
       "      <td>0.850726</td>\n",
       "      <td>0.201134</td>\n",
       "      <td>-0.994293</td>\n",
       "    </tr>\n",
       "    <tr>\n",
       "      <th>...</th>\n",
       "      <td>...</td>\n",
       "      <td>...</td>\n",
       "      <td>...</td>\n",
       "      <td>...</td>\n",
       "      <td>...</td>\n",
       "    </tr>\n",
       "    <tr>\n",
       "      <th>4995</th>\n",
       "      <td>-0.758470</td>\n",
       "      <td>1.877474</td>\n",
       "      <td>-0.849064</td>\n",
       "      <td>-0.423039</td>\n",
       "      <td>-1.350917</td>\n",
       "    </tr>\n",
       "    <tr>\n",
       "      <th>4996</th>\n",
       "      <td>0.936679</td>\n",
       "      <td>1.035210</td>\n",
       "      <td>-0.410236</td>\n",
       "      <td>0.030905</td>\n",
       "      <td>-1.069131</td>\n",
       "    </tr>\n",
       "    <tr>\n",
       "      <th>4997</th>\n",
       "      <td>-0.491501</td>\n",
       "      <td>1.290004</td>\n",
       "      <td>-2.179585</td>\n",
       "      <td>-1.501155</td>\n",
       "      <td>-0.293363</td>\n",
       "    </tr>\n",
       "    <tr>\n",
       "      <th>4998</th>\n",
       "      <td>-0.055437</td>\n",
       "      <td>-0.448985</td>\n",
       "      <td>0.142416</td>\n",
       "      <td>1.181977</td>\n",
       "      <td>0.655755</td>\n",
       "    </tr>\n",
       "    <tr>\n",
       "      <th>4999</th>\n",
       "      <td>-0.291006</td>\n",
       "      <td>0.015012</td>\n",
       "      <td>-0.194947</td>\n",
       "      <td>0.071436</td>\n",
       "      <td>1.048775</td>\n",
       "    </tr>\n",
       "  </tbody>\n",
       "</table>\n",
       "<p>5000 rows × 5 columns</p>\n",
       "</div>"
      ],
      "text/plain": [
       "             0         1         2         3         4\n",
       "0     1.036382 -0.298541  0.021620  0.087648 -1.325622\n",
       "1     1.008309  0.025747 -0.256381 -0.722966  0.407049\n",
       "2    -0.690457 -0.113082  1.523179  0.930687  0.073326\n",
       "3    -0.495800  1.226822 -1.398967 -0.585161 -0.187484\n",
       "4    -0.813869 -0.949376  0.850726  0.201134 -0.994293\n",
       "...        ...       ...       ...       ...       ...\n",
       "4995 -0.758470  1.877474 -0.849064 -0.423039 -1.350917\n",
       "4996  0.936679  1.035210 -0.410236  0.030905 -1.069131\n",
       "4997 -0.491501  1.290004 -2.179585 -1.501155 -0.293363\n",
       "4998 -0.055437 -0.448985  0.142416  1.181977  0.655755\n",
       "4999 -0.291006  0.015012 -0.194947  0.071436  1.048775\n",
       "\n",
       "[5000 rows x 5 columns]"
      ]
     },
     "execution_count": 40,
     "metadata": {},
     "output_type": "execute_result"
    }
   ],
   "source": [
    "from sklearn.preprocessing import StandardScaler\n",
    "scaler = StandardScaler()\n",
    "sc_x = scaler.fit_transform(x)\n",
    "pd.DataFrame(sc_x)"
   ]
  },
  {
   "cell_type": "markdown",
   "id": "6b761aed",
   "metadata": {},
   "source": [
    "# It's multiple linear regression, hence we have to check \"Multicollinearity\"\n",
    "### The variable should have a robust relationship with independent variables. However, any unbiased variables shouldn’t have robust correlations among other independent variables. Collinearity can be a linear affiliation among explanatory variables. Two variables are perfectly collinear if there’s a particular linear relationship between them. \n",
    "Multicollinearity refers to a situation at some stage in which two or greater explanatory variables in the course of a multiple correlation model are pretty linearly related. We’ve perfect multicollinearity if the correlation between impartial variables is good to 1 or -1. In practice, we do not often face ideal multicollinearity for the duration of an information set. More commonly, the difficulty of multicollinearity arises when there’s an approximately linear courting between two or more unbiased variables. \n",
    "In easy words, Multicollinearity can be defined as it’s far an event wherein one or greater of the unbiased variables are strongly correlated with one another. In such incidents, we ought to usually use just one in every correlated impartial variable.\n",
    "VIF(Variance Inflation Factor) is a hallmark of the life of multicollinearity, and statsmodel presents a characteristic to calculate the VIF for each experimental variable and worth of greater than 10 is that the rule of thumb for the possible lifestyles of high multicollinearity. The excellent guiding principle for VIF price is as follows, VIF = 1 manner no correlation exists, VIF > 1, but < 5 then correlation exists.  \n",
    " \n",
    "\n",
    "$V F_{i}=1 / 1-R_{i}^{2}$ where $\\mathrm{R}^{2}$ is the coefficient of determination of variable.  \n"
   ]
  },
  {
   "cell_type": "markdown",
   "id": "302822ad",
   "metadata": {},
   "source": [
    "# If VIF is close to 1 means there is no correalation between independent varible if it is below 5 then it is a acceptable region if it is between 5 to 10 then need to consult with buisness to decide dropping of variable .vif above 10 means there is a strong correlation"
   ]
  },
  {
   "cell_type": "code",
   "execution_count": 41,
   "id": "689c15b9",
   "metadata": {},
   "outputs": [
    {
     "data": {
      "text/plain": [
       "(5000, 5)"
      ]
     },
     "execution_count": 41,
     "metadata": {},
     "output_type": "execute_result"
    }
   ],
   "source": [
    "variable = sc_x\n",
    "variable.shape"
   ]
  },
  {
   "cell_type": "code",
   "execution_count": 42,
   "id": "20835897",
   "metadata": {},
   "outputs": [],
   "source": [
    "# VIF value is more than 5 means there is a multicollinearity there in the features\n",
    "from statsmodels.stats.outliers_influence import variance_inflation_factor\n",
    "variable = sc_x\n",
    "vif = pd.DataFrame()\n",
    "vif['variance_inflation_factor'] = [variance_inflation_factor(variable, i) for i in range(variable.shape[1])]\n",
    "\n",
    "vif['Features'] = x.columns"
   ]
  },
  {
   "cell_type": "code",
   "execution_count": 43,
   "id": "08a82bf4",
   "metadata": {},
   "outputs": [
    {
     "data": {
      "text/html": [
       "<div>\n",
       "<style scoped>\n",
       "    .dataframe tbody tr th:only-of-type {\n",
       "        vertical-align: middle;\n",
       "    }\n",
       "\n",
       "    .dataframe tbody tr th {\n",
       "        vertical-align: top;\n",
       "    }\n",
       "\n",
       "    .dataframe thead th {\n",
       "        text-align: right;\n",
       "    }\n",
       "</style>\n",
       "<table border=\"1\" class=\"dataframe\">\n",
       "  <thead>\n",
       "    <tr style=\"text-align: right;\">\n",
       "      <th></th>\n",
       "      <th>variance_inflation_factor</th>\n",
       "      <th>Features</th>\n",
       "    </tr>\n",
       "  </thead>\n",
       "  <tbody>\n",
       "    <tr>\n",
       "      <th>0</th>\n",
       "      <td>1.001066</td>\n",
       "      <td>Avg. Area Income</td>\n",
       "    </tr>\n",
       "    <tr>\n",
       "      <th>1</th>\n",
       "      <td>1.000593</td>\n",
       "      <td>Avg. Area House Age</td>\n",
       "    </tr>\n",
       "    <tr>\n",
       "      <th>2</th>\n",
       "      <td>1.274838</td>\n",
       "      <td>Avg. Area Number of Rooms</td>\n",
       "    </tr>\n",
       "    <tr>\n",
       "      <th>3</th>\n",
       "      <td>1.275700</td>\n",
       "      <td>Avg. Area Number of Bedrooms</td>\n",
       "    </tr>\n",
       "    <tr>\n",
       "      <th>4</th>\n",
       "      <td>1.001142</td>\n",
       "      <td>Area Population</td>\n",
       "    </tr>\n",
       "  </tbody>\n",
       "</table>\n",
       "</div>"
      ],
      "text/plain": [
       "   variance_inflation_factor                      Features\n",
       "0                   1.001066              Avg. Area Income\n",
       "1                   1.000593           Avg. Area House Age\n",
       "2                   1.274838     Avg. Area Number of Rooms\n",
       "3                   1.275700  Avg. Area Number of Bedrooms\n",
       "4                   1.001142               Area Population"
      ]
     },
     "execution_count": 43,
     "metadata": {},
     "output_type": "execute_result"
    }
   ],
   "source": [
    "vif"
   ]
  },
  {
   "cell_type": "markdown",
   "id": "8e8a36a1",
   "metadata": {},
   "source": [
    "# Finding correlation\n",
    "### This will also give the same result as that of the VIF . we can either check the VIF or by plotting heat map we will check the correlation .if the correlation is more than 0.8 then there is a high correlationa and we will drop the variable¶"
   ]
  },
  {
   "cell_type": "code",
   "execution_count": 44,
   "id": "557fb00f",
   "metadata": {},
   "outputs": [
    {
     "data": {
      "image/png": "[encoded data removed]",
      "text/plain": [
       "<Figure size 1440x1080 with 2 Axes>"
      ]
     },
     "metadata": {},
     "output_type": "display_data"
    }
   ],
   "source": [
    "plt.figure(figsize=(20,15))\n",
    "\n",
    "sns.heatmap(Housing.corr(), annot=True, cmap='coolwarm')\n",
    "plt.show()"
   ]
  },
  {
   "cell_type": "code",
   "execution_count": 45,
   "id": "a99632da",
   "metadata": {},
   "outputs": [],
   "source": [
    "# split the data into training and testing whereas training is for building a model and testing is for predicting and evaluation\n",
    "from sklearn.model_selection import train_test_split\n",
    "x_train , x_test , y_train , y_test = train_test_split(x,y,test_size= 0.2 , random_state = 0)\n",
    "#random_state will fixed the cell no."
   ]
  },
  {
   "cell_type": "code",
   "execution_count": 46,
   "id": "9f6a8f39",
   "metadata": {},
   "outputs": [
    {
     "name": "stdout",
     "output_type": "stream",
     "text": [
      "(4000, 5)\n",
      "(1000, 5)\n"
     ]
    }
   ],
   "source": [
    "print(x_train.shape)\n",
    "print(x_test.shape)"
   ]
  },
  {
   "cell_type": "markdown",
   "id": "00987d88",
   "metadata": {},
   "source": [
    "# Building Model - Linear Regression"
   ]
  },
  {
   "cell_type": "code",
   "execution_count": 47,
   "id": "85b3eda8",
   "metadata": {},
   "outputs": [
    {
     "data": {
      "text/plain": [
       "LinearRegression()"
      ]
     },
     "execution_count": 47,
     "metadata": {},
     "output_type": "execute_result"
    }
   ],
   "source": [
    "#Approach no 1 - basic method\n",
    "\n",
    "from sklearn.linear_model import LinearRegression\n",
    "lm = LinearRegression()\n",
    "lm.fit(x_train, y_train)"
   ]
  },
  {
   "cell_type": "code",
   "execution_count": 48,
   "id": "6836bf2b",
   "metadata": {},
   "outputs": [
    {
     "name": "stdout",
     "output_type": "stream",
     "text": [
      "[2.17614093e+01 1.67097451e+05 1.20854863e+05 1.89086080e+03\n",
      " 1.53789291e+01]\n"
     ]
    }
   ],
   "source": [
    "print(lm.coef_)"
   ]
  },
  {
   "cell_type": "code",
   "execution_count": 49,
   "id": "75df5a22",
   "metadata": {},
   "outputs": [
    {
     "name": "stdout",
     "output_type": "stream",
     "text": [
      "-2666909.1146581145\n"
     ]
    }
   ],
   "source": [
    "print(lm.intercept_)"
   ]
  },
  {
   "cell_type": "code",
   "execution_count": 50,
   "id": "143a4767",
   "metadata": {},
   "outputs": [
    {
     "data": {
      "text/plain": [
       "Index(['Avg. Area Income', 'Avg. Area House Age', 'Avg. Area Number of Rooms',\n",
       "       'Avg. Area Number of Bedrooms', 'Area Population'],\n",
       "      dtype='object')"
      ]
     },
     "execution_count": 50,
     "metadata": {},
     "output_type": "execute_result"
    }
   ],
   "source": [
    "x.columns"
   ]
  },
  {
   "cell_type": "code",
   "execution_count": 51,
   "id": "a0ac9f73",
   "metadata": {},
   "outputs": [
    {
     "data": {
      "text/html": [
       "<div>\n",
       "<style scoped>\n",
       "    .dataframe tbody tr th:only-of-type {\n",
       "        vertical-align: middle;\n",
       "    }\n",
       "\n",
       "    .dataframe tbody tr th {\n",
       "        vertical-align: top;\n",
       "    }\n",
       "\n",
       "    .dataframe thead th {\n",
       "        text-align: right;\n",
       "    }\n",
       "</style>\n",
       "<table border=\"1\" class=\"dataframe\">\n",
       "  <thead>\n",
       "    <tr style=\"text-align: right;\">\n",
       "      <th></th>\n",
       "      <th>Avg. Area Income</th>\n",
       "      <th>Avg. Area House Age</th>\n",
       "      <th>Avg. Area Number of Rooms</th>\n",
       "      <th>Avg. Area Number of Bedrooms</th>\n",
       "      <th>Area Population</th>\n",
       "    </tr>\n",
       "  </thead>\n",
       "  <tbody>\n",
       "    <tr>\n",
       "      <th>398</th>\n",
       "      <td>61200.72618</td>\n",
       "      <td>5.299694</td>\n",
       "      <td>6.234615</td>\n",
       "      <td>4.23</td>\n",
       "      <td>42789.69222</td>\n",
       "    </tr>\n",
       "    <tr>\n",
       "      <th>3833</th>\n",
       "      <td>63380.81467</td>\n",
       "      <td>5.344664</td>\n",
       "      <td>6.001574</td>\n",
       "      <td>2.45</td>\n",
       "      <td>40217.33358</td>\n",
       "    </tr>\n",
       "    <tr>\n",
       "      <th>4836</th>\n",
       "      <td>71208.26930</td>\n",
       "      <td>5.300326</td>\n",
       "      <td>6.077989</td>\n",
       "      <td>4.01</td>\n",
       "      <td>25696.36174</td>\n",
       "    </tr>\n",
       "    <tr>\n",
       "      <th>4572</th>\n",
       "      <td>50343.76352</td>\n",
       "      <td>6.027468</td>\n",
       "      <td>5.160240</td>\n",
       "      <td>4.35</td>\n",
       "      <td>27445.87674</td>\n",
       "    </tr>\n",
       "    <tr>\n",
       "      <th>636</th>\n",
       "      <td>54535.45372</td>\n",
       "      <td>5.278065</td>\n",
       "      <td>6.871038</td>\n",
       "      <td>4.41</td>\n",
       "      <td>30852.20701</td>\n",
       "    </tr>\n",
       "    <tr>\n",
       "      <th>...</th>\n",
       "      <td>...</td>\n",
       "      <td>...</td>\n",
       "      <td>...</td>\n",
       "      <td>...</td>\n",
       "      <td>...</td>\n",
       "    </tr>\n",
       "    <tr>\n",
       "      <th>4228</th>\n",
       "      <td>72472.36674</td>\n",
       "      <td>5.801879</td>\n",
       "      <td>5.374962</td>\n",
       "      <td>2.45</td>\n",
       "      <td>19745.49279</td>\n",
       "    </tr>\n",
       "    <tr>\n",
       "      <th>2367</th>\n",
       "      <td>58909.31344</td>\n",
       "      <td>5.714293</td>\n",
       "      <td>7.703920</td>\n",
       "      <td>6.38</td>\n",
       "      <td>40865.81789</td>\n",
       "    </tr>\n",
       "    <tr>\n",
       "      <th>788</th>\n",
       "      <td>49424.26712</td>\n",
       "      <td>7.053473</td>\n",
       "      <td>5.110956</td>\n",
       "      <td>2.27</td>\n",
       "      <td>18656.64243</td>\n",
       "    </tr>\n",
       "    <tr>\n",
       "      <th>1452</th>\n",
       "      <td>70138.51256</td>\n",
       "      <td>6.319457</td>\n",
       "      <td>6.599789</td>\n",
       "      <td>4.37</td>\n",
       "      <td>33434.11259</td>\n",
       "    </tr>\n",
       "    <tr>\n",
       "      <th>3265</th>\n",
       "      <td>69835.56400</td>\n",
       "      <td>6.419843</td>\n",
       "      <td>7.670983</td>\n",
       "      <td>3.03</td>\n",
       "      <td>19376.31893</td>\n",
       "    </tr>\n",
       "  </tbody>\n",
       "</table>\n",
       "<p>1000 rows × 5 columns</p>\n",
       "</div>"
      ],
      "text/plain": [
       "      Avg. Area Income  Avg. Area House Age  Avg. Area Number of Rooms  \\\n",
       "398        61200.72618             5.299694                   6.234615   \n",
       "3833       63380.81467             5.344664                   6.001574   \n",
       "4836       71208.26930             5.300326                   6.077989   \n",
       "4572       50343.76352             6.027468                   5.160240   \n",
       "636        54535.45372             5.278065                   6.871038   \n",
       "...                ...                  ...                        ...   \n",
       "4228       72472.36674             5.801879                   5.374962   \n",
       "2367       58909.31344             5.714293                   7.703920   \n",
       "788        49424.26712             7.053473                   5.110956   \n",
       "1452       70138.51256             6.319457                   6.599789   \n",
       "3265       69835.56400             6.419843                   7.670983   \n",
       "\n",
       "      Avg. Area Number of Bedrooms  Area Population  \n",
       "398                           4.23      42789.69222  \n",
       "3833                          2.45      40217.33358  \n",
       "4836                          4.01      25696.36174  \n",
       "4572                          4.35      27445.87674  \n",
       "636                           4.41      30852.20701  \n",
       "...                            ...              ...  \n",
       "4228                          2.45      19745.49279  \n",
       "2367                          6.38      40865.81789  \n",
       "788                           2.27      18656.64243  \n",
       "1452                          4.37      33434.11259  \n",
       "3265                          3.03      19376.31893  \n",
       "\n",
       "[1000 rows x 5 columns]"
      ]
     },
     "execution_count": 51,
     "metadata": {},
     "output_type": "execute_result"
    }
   ],
   "source": [
    "x_test"
   ]
  },
  {
   "cell_type": "markdown",
   "id": "12c78fb6",
   "metadata": {},
   "source": [
    "# Predict test dataset with linear model"
   ]
  },
  {
   "cell_type": "code",
   "execution_count": 52,
   "id": "61f8a4b4",
   "metadata": {},
   "outputs": [],
   "source": [
    "y_pred = lm.predict(x_test)\n",
    "#y_pred (TO check all the values)"
   ]
  },
  {
   "cell_type": "code",
   "execution_count": 53,
   "id": "4654667c",
   "metadata": {},
   "outputs": [],
   "source": [
    "y_pred = lm.predict(x_test)\n",
    "#y_pred (To check all predicted values)"
   ]
  },
  {
   "cell_type": "markdown",
   "id": "a0ed7ed0",
   "metadata": {},
   "source": [
    "# Evaluation"
   ]
  },
  {
   "cell_type": "code",
   "execution_count": 54,
   "id": "33460f1a",
   "metadata": {},
   "outputs": [
    {
     "name": "stdout",
     "output_type": "stream",
     "text": [
      "Accuracy : 0.9090591517898807\n"
     ]
    }
   ],
   "source": [
    "from sklearn.metrics import r2_score\n",
    "print(\"Accuracy :\" ,r2_score(y_test ,y_pred))"
   ]
  },
  {
   "cell_type": "markdown",
   "id": "5a039ed6",
   "metadata": {},
   "source": [
    "# OLS Method"
   ]
  },
  {
   "cell_type": "code",
   "execution_count": 55,
   "id": "4f77d417",
   "metadata": {},
   "outputs": [],
   "source": [
    "from statsmodels.regression.linear_model import OLS\n",
    "import statsmodels.regression.linear_model as smf"
   ]
  },
  {
   "cell_type": "code",
   "execution_count": 56,
   "id": "6ebc8501",
   "metadata": {},
   "outputs": [],
   "source": [
    "\n",
    "reg_model = smf.OLS(endog=y_train , exog=x_train).fit()"
   ]
  },
  {
   "cell_type": "code",
   "execution_count": 57,
   "id": "6bc0ce99",
   "metadata": {},
   "outputs": [
    {
     "data": {
      "text/html": [
       "<table class=\"simpletable\">\n",
       "<caption>OLS Regression Results</caption>\n",
       "<tr>\n",
       "  <th>Dep. Variable:</th>          <td>Price</td>      <th>  R-squared (uncentered):</th>      <td>   0.964</td> \n",
       "</tr>\n",
       "<tr>\n",
       "  <th>Model:</th>                   <td>OLS</td>       <th>  Adj. R-squared (uncentered):</th> <td>   0.964</td> \n",
       "</tr>\n",
       "<tr>\n",
       "  <th>Method:</th>             <td>Least Squares</td>  <th>  F-statistic:       </th>          <td>2.145e+04</td>\n",
       "</tr>\n",
       "<tr>\n",
       "  <th>Date:</th>             <td>Fri, 17 May 2024</td> <th>  Prob (F-statistic):</th>           <td>  0.00</td>  \n",
       "</tr>\n",
       "<tr>\n",
       "  <th>Time:</th>                 <td>11:35:56</td>     <th>  Log-Likelihood:    </th>          <td> -55277.</td> \n",
       "</tr>\n",
       "<tr>\n",
       "  <th>No. Observations:</th>      <td>  4000</td>      <th>  AIC:               </th>          <td>1.106e+05</td>\n",
       "</tr>\n",
       "<tr>\n",
       "  <th>Df Residuals:</th>          <td>  3995</td>      <th>  BIC:               </th>          <td>1.106e+05</td>\n",
       "</tr>\n",
       "<tr>\n",
       "  <th>Df Model:</th>              <td>     5</td>      <th>                     </th>              <td> </td>    \n",
       "</tr>\n",
       "<tr>\n",
       "  <th>Covariance Type:</th>      <td>nonrobust</td>    <th>                     </th>              <td> </td>    \n",
       "</tr>\n",
       "</table>\n",
       "<table class=\"simpletable\">\n",
       "<tr>\n",
       "                <td></td>                  <th>coef</th>     <th>std err</th>      <th>t</th>      <th>P>|t|</th>  <th>[0.025</th>    <th>0.975]</th>  \n",
       "</tr>\n",
       "<tr>\n",
       "  <th>Avg. Area Income</th>             <td>   10.2876</td> <td>    0.303</td> <td>   33.993</td> <td> 0.000</td> <td>    9.694</td> <td>   10.881</td>\n",
       "</tr>\n",
       "<tr>\n",
       "  <th>Avg. Area House Age</th>          <td> 5.244e+04</td> <td> 3319.852</td> <td>   15.796</td> <td> 0.000</td> <td> 4.59e+04</td> <td>  5.9e+04</td>\n",
       "</tr>\n",
       "<tr>\n",
       "  <th>Avg. Area Number of Rooms</th>    <td>-1.128e+04</td> <td> 3645.073</td> <td>   -3.095</td> <td> 0.002</td> <td>-1.84e+04</td> <td>-4136.577</td>\n",
       "</tr>\n",
       "<tr>\n",
       "  <th>Avg. Area Number of Bedrooms</th> <td> 4702.1899</td> <td> 3527.911</td> <td>    1.333</td> <td> 0.183</td> <td>-2214.484</td> <td> 1.16e+04</td>\n",
       "</tr>\n",
       "<tr>\n",
       "  <th>Area Population</th>              <td>    8.0586</td> <td>    0.370</td> <td>   21.792</td> <td> 0.000</td> <td>    7.334</td> <td>    8.784</td>\n",
       "</tr>\n",
       "</table>\n",
       "<table class=\"simpletable\">\n",
       "<tr>\n",
       "  <th>Omnibus:</th>       <td> 0.196</td> <th>  Durbin-Watson:     </th> <td>   1.981</td>\n",
       "</tr>\n",
       "<tr>\n",
       "  <th>Prob(Omnibus):</th> <td> 0.907</td> <th>  Jarque-Bera (JB):  </th> <td>   0.166</td>\n",
       "</tr>\n",
       "<tr>\n",
       "  <th>Skew:</th>          <td>-0.013</td> <th>  Prob(JB):          </th> <td>   0.920</td>\n",
       "</tr>\n",
       "<tr>\n",
       "  <th>Kurtosis:</th>      <td> 3.018</td> <th>  Cond. No.          </th> <td>9.29e+04</td>\n",
       "</tr>\n",
       "</table><br/><br/>Notes:<br/>[1] R² is computed without centering (uncentered) since the model does not contain a constant.<br/>[2] Standard Errors assume that the covariance matrix of the errors is correctly specified.<br/>[3] The condition number is large, 9.29e+04. This might indicate that there are<br/>strong multicollinearity or other numerical problems."
      ],
      "text/plain": [
       "<class 'statsmodels.iolib.summary.Summary'>\n",
       "\"\"\"\n",
       "                                 OLS Regression Results                                \n",
       "=======================================================================================\n",
       "Dep. Variable:                  Price   R-squared (uncentered):                   0.964\n",
       "Model:                            OLS   Adj. R-squared (uncentered):              0.964\n",
       "Method:                 Least Squares   F-statistic:                          2.145e+04\n",
       "Date:                Fri, 17 May 2024   Prob (F-statistic):                        0.00\n",
       "Time:                        11:35:56   Log-Likelihood:                         -55277.\n",
       "No. Observations:                4000   AIC:                                  1.106e+05\n",
       "Df Residuals:                    3995   BIC:                                  1.106e+05\n",
       "Df Model:                           5                                                  \n",
       "Covariance Type:            nonrobust                                                  \n",
       "================================================================================================\n",
       "                                   coef    std err          t      P>|t|      [0.025      0.975]\n",
       "------------------------------------------------------------------------------------------------\n",
       "Avg. Area Income                10.2876      0.303     33.993      0.000       9.694      10.881\n",
       "Avg. Area House Age           5.244e+04   3319.852     15.796      0.000    4.59e+04     5.9e+04\n",
       "Avg. Area Number of Rooms    -1.128e+04   3645.073     -3.095      0.002   -1.84e+04   -4136.577\n",
       "Avg. Area Number of Bedrooms  4702.1899   3527.911      1.333      0.183   -2214.484    1.16e+04\n",
       "Area Population                  8.0586      0.370     21.792      0.000       7.334       8.784\n",
       "==============================================================================\n",
       "Omnibus:                        0.196   Durbin-Watson:                   1.981\n",
       "Prob(Omnibus):                  0.907   Jarque-Bera (JB):                0.166\n",
       "Skew:                          -0.013   Prob(JB):                        0.920\n",
       "Kurtosis:                       3.018   Cond. No.                     9.29e+04\n",
       "==============================================================================\n",
       "\n",
       "Notes:\n",
       "[1] R² is computed without centering (uncentered) since the model does not contain a constant.\n",
       "[2] Standard Errors assume that the covariance matrix of the errors is correctly specified.\n",
       "[3] The condition number is large, 9.29e+04. This might indicate that there are\n",
       "strong multicollinearity or other numerical problems.\n",
       "\"\"\""
      ]
     },
     "execution_count": 57,
     "metadata": {},
     "output_type": "execute_result"
    }
   ],
   "source": [
    "reg_model.summary()"
   ]
  },
  {
   "cell_type": "code",
   "execution_count": 58,
   "id": "705115b1",
   "metadata": {},
   "outputs": [],
   "source": [
    "#Here P value "
   ]
  },
  {
   "cell_type": "code",
   "execution_count": 59,
   "id": "5c858165",
   "metadata": {},
   "outputs": [],
   "source": [
    "from sklearn.model_selection import train_test_split\n",
    "x_train , x_test , y_train , y_test = train_test_split(x,y,test_size= 0.2 , random_state = 0)"
   ]
  },
  {
   "cell_type": "code",
   "execution_count": 60,
   "id": "22e52242",
   "metadata": {},
   "outputs": [
    {
     "data": {
      "text/html": [
       "<div>\n",
       "<style scoped>\n",
       "    .dataframe tbody tr th:only-of-type {\n",
       "        vertical-align: middle;\n",
       "    }\n",
       "\n",
       "    .dataframe tbody tr th {\n",
       "        vertical-align: top;\n",
       "    }\n",
       "\n",
       "    .dataframe thead th {\n",
       "        text-align: right;\n",
       "    }\n",
       "</style>\n",
       "<table border=\"1\" class=\"dataframe\">\n",
       "  <thead>\n",
       "    <tr style=\"text-align: right;\">\n",
       "      <th></th>\n",
       "      <th>Avg. Area Income</th>\n",
       "      <th>Avg. Area House Age</th>\n",
       "      <th>Avg. Area Number of Rooms</th>\n",
       "      <th>Avg. Area Number of Bedrooms</th>\n",
       "      <th>Area Population</th>\n",
       "    </tr>\n",
       "  </thead>\n",
       "  <tbody>\n",
       "    <tr>\n",
       "      <th>398</th>\n",
       "      <td>61200.72618</td>\n",
       "      <td>5.299694</td>\n",
       "      <td>6.234615</td>\n",
       "      <td>4.23</td>\n",
       "      <td>42789.69222</td>\n",
       "    </tr>\n",
       "    <tr>\n",
       "      <th>3833</th>\n",
       "      <td>63380.81467</td>\n",
       "      <td>5.344664</td>\n",
       "      <td>6.001574</td>\n",
       "      <td>2.45</td>\n",
       "      <td>40217.33358</td>\n",
       "    </tr>\n",
       "    <tr>\n",
       "      <th>4836</th>\n",
       "      <td>71208.26930</td>\n",
       "      <td>5.300326</td>\n",
       "      <td>6.077989</td>\n",
       "      <td>4.01</td>\n",
       "      <td>25696.36174</td>\n",
       "    </tr>\n",
       "    <tr>\n",
       "      <th>4572</th>\n",
       "      <td>50343.76352</td>\n",
       "      <td>6.027468</td>\n",
       "      <td>5.160240</td>\n",
       "      <td>4.35</td>\n",
       "      <td>27445.87674</td>\n",
       "    </tr>\n",
       "    <tr>\n",
       "      <th>636</th>\n",
       "      <td>54535.45372</td>\n",
       "      <td>5.278065</td>\n",
       "      <td>6.871038</td>\n",
       "      <td>4.41</td>\n",
       "      <td>30852.20701</td>\n",
       "    </tr>\n",
       "    <tr>\n",
       "      <th>...</th>\n",
       "      <td>...</td>\n",
       "      <td>...</td>\n",
       "      <td>...</td>\n",
       "      <td>...</td>\n",
       "      <td>...</td>\n",
       "    </tr>\n",
       "    <tr>\n",
       "      <th>4228</th>\n",
       "      <td>72472.36674</td>\n",
       "      <td>5.801879</td>\n",
       "      <td>5.374962</td>\n",
       "      <td>2.45</td>\n",
       "      <td>19745.49279</td>\n",
       "    </tr>\n",
       "    <tr>\n",
       "      <th>2367</th>\n",
       "      <td>58909.31344</td>\n",
       "      <td>5.714293</td>\n",
       "      <td>7.703920</td>\n",
       "      <td>6.38</td>\n",
       "      <td>40865.81789</td>\n",
       "    </tr>\n",
       "    <tr>\n",
       "      <th>788</th>\n",
       "      <td>49424.26712</td>\n",
       "      <td>7.053473</td>\n",
       "      <td>5.110956</td>\n",
       "      <td>2.27</td>\n",
       "      <td>18656.64243</td>\n",
       "    </tr>\n",
       "    <tr>\n",
       "      <th>1452</th>\n",
       "      <td>70138.51256</td>\n",
       "      <td>6.319457</td>\n",
       "      <td>6.599789</td>\n",
       "      <td>4.37</td>\n",
       "      <td>33434.11259</td>\n",
       "    </tr>\n",
       "    <tr>\n",
       "      <th>3265</th>\n",
       "      <td>69835.56400</td>\n",
       "      <td>6.419843</td>\n",
       "      <td>7.670983</td>\n",
       "      <td>3.03</td>\n",
       "      <td>19376.31893</td>\n",
       "    </tr>\n",
       "  </tbody>\n",
       "</table>\n",
       "<p>1000 rows × 5 columns</p>\n",
       "</div>"
      ],
      "text/plain": [
       "      Avg. Area Income  Avg. Area House Age  Avg. Area Number of Rooms  \\\n",
       "398        61200.72618             5.299694                   6.234615   \n",
       "3833       63380.81467             5.344664                   6.001574   \n",
       "4836       71208.26930             5.300326                   6.077989   \n",
       "4572       50343.76352             6.027468                   5.160240   \n",
       "636        54535.45372             5.278065                   6.871038   \n",
       "...                ...                  ...                        ...   \n",
       "4228       72472.36674             5.801879                   5.374962   \n",
       "2367       58909.31344             5.714293                   7.703920   \n",
       "788        49424.26712             7.053473                   5.110956   \n",
       "1452       70138.51256             6.319457                   6.599789   \n",
       "3265       69835.56400             6.419843                   7.670983   \n",
       "\n",
       "      Avg. Area Number of Bedrooms  Area Population  \n",
       "398                           4.23      42789.69222  \n",
       "3833                          2.45      40217.33358  \n",
       "4836                          4.01      25696.36174  \n",
       "4572                          4.35      27445.87674  \n",
       "636                           4.41      30852.20701  \n",
       "...                            ...              ...  \n",
       "4228                          2.45      19745.49279  \n",
       "2367                          6.38      40865.81789  \n",
       "788                           2.27      18656.64243  \n",
       "1452                          4.37      33434.11259  \n",
       "3265                          3.03      19376.31893  \n",
       "\n",
       "[1000 rows x 5 columns]"
      ]
     },
     "execution_count": 60,
     "metadata": {},
     "output_type": "execute_result"
    }
   ],
   "source": [
    "x_test"
   ]
  },
  {
   "cell_type": "code",
   "execution_count": 61,
   "id": "92d12998",
   "metadata": {},
   "outputs": [],
   "source": [
    "from statsmodels.regression.linear_model import OLS\n",
    "import statsmodels.regression.linear_model as smf"
   ]
  },
  {
   "cell_type": "code",
   "execution_count": 62,
   "id": "9838c967",
   "metadata": {},
   "outputs": [],
   "source": [
    "reg_model = smf.OLS(endog=y_train , exog=x_train).fit()"
   ]
  },
  {
   "cell_type": "code",
   "execution_count": 63,
   "id": "2698dc4e",
   "metadata": {},
   "outputs": [
    {
     "data": {
      "text/html": [
       "<table class=\"simpletable\">\n",
       "<caption>OLS Regression Results</caption>\n",
       "<tr>\n",
       "  <th>Dep. Variable:</th>          <td>Price</td>      <th>  R-squared (uncentered):</th>      <td>   0.964</td> \n",
       "</tr>\n",
       "<tr>\n",
       "  <th>Model:</th>                   <td>OLS</td>       <th>  Adj. R-squared (uncentered):</th> <td>   0.964</td> \n",
       "</tr>\n",
       "<tr>\n",
       "  <th>Method:</th>             <td>Least Squares</td>  <th>  F-statistic:       </th>          <td>2.145e+04</td>\n",
       "</tr>\n",
       "<tr>\n",
       "  <th>Date:</th>             <td>Fri, 17 May 2024</td> <th>  Prob (F-statistic):</th>           <td>  0.00</td>  \n",
       "</tr>\n",
       "<tr>\n",
       "  <th>Time:</th>                 <td>11:36:00</td>     <th>  Log-Likelihood:    </th>          <td> -55277.</td> \n",
       "</tr>\n",
       "<tr>\n",
       "  <th>No. Observations:</th>      <td>  4000</td>      <th>  AIC:               </th>          <td>1.106e+05</td>\n",
       "</tr>\n",
       "<tr>\n",
       "  <th>Df Residuals:</th>          <td>  3995</td>      <th>  BIC:               </th>          <td>1.106e+05</td>\n",
       "</tr>\n",
       "<tr>\n",
       "  <th>Df Model:</th>              <td>     5</td>      <th>                     </th>              <td> </td>    \n",
       "</tr>\n",
       "<tr>\n",
       "  <th>Covariance Type:</th>      <td>nonrobust</td>    <th>                     </th>              <td> </td>    \n",
       "</tr>\n",
       "</table>\n",
       "<table class=\"simpletable\">\n",
       "<tr>\n",
       "                <td></td>                  <th>coef</th>     <th>std err</th>      <th>t</th>      <th>P>|t|</th>  <th>[0.025</th>    <th>0.975]</th>  \n",
       "</tr>\n",
       "<tr>\n",
       "  <th>Avg. Area Income</th>             <td>   10.2876</td> <td>    0.303</td> <td>   33.993</td> <td> 0.000</td> <td>    9.694</td> <td>   10.881</td>\n",
       "</tr>\n",
       "<tr>\n",
       "  <th>Avg. Area House Age</th>          <td> 5.244e+04</td> <td> 3319.852</td> <td>   15.796</td> <td> 0.000</td> <td> 4.59e+04</td> <td>  5.9e+04</td>\n",
       "</tr>\n",
       "<tr>\n",
       "  <th>Avg. Area Number of Rooms</th>    <td>-1.128e+04</td> <td> 3645.073</td> <td>   -3.095</td> <td> 0.002</td> <td>-1.84e+04</td> <td>-4136.577</td>\n",
       "</tr>\n",
       "<tr>\n",
       "  <th>Avg. Area Number of Bedrooms</th> <td> 4702.1899</td> <td> 3527.911</td> <td>    1.333</td> <td> 0.183</td> <td>-2214.484</td> <td> 1.16e+04</td>\n",
       "</tr>\n",
       "<tr>\n",
       "  <th>Area Population</th>              <td>    8.0586</td> <td>    0.370</td> <td>   21.792</td> <td> 0.000</td> <td>    7.334</td> <td>    8.784</td>\n",
       "</tr>\n",
       "</table>\n",
       "<table class=\"simpletable\">\n",
       "<tr>\n",
       "  <th>Omnibus:</th>       <td> 0.196</td> <th>  Durbin-Watson:     </th> <td>   1.981</td>\n",
       "</tr>\n",
       "<tr>\n",
       "  <th>Prob(Omnibus):</th> <td> 0.907</td> <th>  Jarque-Bera (JB):  </th> <td>   0.166</td>\n",
       "</tr>\n",
       "<tr>\n",
       "  <th>Skew:</th>          <td>-0.013</td> <th>  Prob(JB):          </th> <td>   0.920</td>\n",
       "</tr>\n",
       "<tr>\n",
       "  <th>Kurtosis:</th>      <td> 3.018</td> <th>  Cond. No.          </th> <td>9.29e+04</td>\n",
       "</tr>\n",
       "</table><br/><br/>Notes:<br/>[1] R² is computed without centering (uncentered) since the model does not contain a constant.<br/>[2] Standard Errors assume that the covariance matrix of the errors is correctly specified.<br/>[3] The condition number is large, 9.29e+04. This might indicate that there are<br/>strong multicollinearity or other numerical problems."
      ],
      "text/plain": [
       "<class 'statsmodels.iolib.summary.Summary'>\n",
       "\"\"\"\n",
       "                                 OLS Regression Results                                \n",
       "=======================================================================================\n",
       "Dep. Variable:                  Price   R-squared (uncentered):                   0.964\n",
       "Model:                            OLS   Adj. R-squared (uncentered):              0.964\n",
       "Method:                 Least Squares   F-statistic:                          2.145e+04\n",
       "Date:                Fri, 17 May 2024   Prob (F-statistic):                        0.00\n",
       "Time:                        11:36:00   Log-Likelihood:                         -55277.\n",
       "No. Observations:                4000   AIC:                                  1.106e+05\n",
       "Df Residuals:                    3995   BIC:                                  1.106e+05\n",
       "Df Model:                           5                                                  \n",
       "Covariance Type:            nonrobust                                                  \n",
       "================================================================================================\n",
       "                                   coef    std err          t      P>|t|      [0.025      0.975]\n",
       "------------------------------------------------------------------------------------------------\n",
       "Avg. Area Income                10.2876      0.303     33.993      0.000       9.694      10.881\n",
       "Avg. Area House Age           5.244e+04   3319.852     15.796      0.000    4.59e+04     5.9e+04\n",
       "Avg. Area Number of Rooms    -1.128e+04   3645.073     -3.095      0.002   -1.84e+04   -4136.577\n",
       "Avg. Area Number of Bedrooms  4702.1899   3527.911      1.333      0.183   -2214.484    1.16e+04\n",
       "Area Population                  8.0586      0.370     21.792      0.000       7.334       8.784\n",
       "==============================================================================\n",
       "Omnibus:                        0.196   Durbin-Watson:                   1.981\n",
       "Prob(Omnibus):                  0.907   Jarque-Bera (JB):                0.166\n",
       "Skew:                          -0.013   Prob(JB):                        0.920\n",
       "Kurtosis:                       3.018   Cond. No.                     9.29e+04\n",
       "==============================================================================\n",
       "\n",
       "Notes:\n",
       "[1] R² is computed without centering (uncentered) since the model does not contain a constant.\n",
       "[2] Standard Errors assume that the covariance matrix of the errors is correctly specified.\n",
       "[3] The condition number is large, 9.29e+04. This might indicate that there are\n",
       "strong multicollinearity or other numerical problems.\n",
       "\"\"\""
      ]
     },
     "execution_count": 63,
     "metadata": {},
     "output_type": "execute_result"
    }
   ],
   "source": [
    "reg_model.summary()"
   ]
  },
  {
   "cell_type": "code",
   "execution_count": 64,
   "id": "77b30578",
   "metadata": {},
   "outputs": [],
   "source": [
    "#here Avg. Area Number of Bedrooms variable is non-significant basis p-value.(if p-value is higher than 0.05 means confidence level is below 95 so need to drop that variable)"
   ]
  },
  {
   "cell_type": "code",
   "execution_count": 65,
   "id": "21599784",
   "metadata": {},
   "outputs": [],
   "source": [
    "x = x.drop(['Avg. Area Number of Bedrooms'], axis=1)"
   ]
  },
  {
   "cell_type": "code",
   "execution_count": 66,
   "id": "d6f6193a",
   "metadata": {},
   "outputs": [
    {
     "data": {
      "text/html": [
       "<div>\n",
       "<style scoped>\n",
       "    .dataframe tbody tr th:only-of-type {\n",
       "        vertical-align: middle;\n",
       "    }\n",
       "\n",
       "    .dataframe tbody tr th {\n",
       "        vertical-align: top;\n",
       "    }\n",
       "\n",
       "    .dataframe thead th {\n",
       "        text-align: right;\n",
       "    }\n",
       "</style>\n",
       "<table border=\"1\" class=\"dataframe\">\n",
       "  <thead>\n",
       "    <tr style=\"text-align: right;\">\n",
       "      <th></th>\n",
       "      <th>Avg. Area Income</th>\n",
       "      <th>Avg. Area House Age</th>\n",
       "      <th>Avg. Area Number of Rooms</th>\n",
       "      <th>Area Population</th>\n",
       "    </tr>\n",
       "  </thead>\n",
       "  <tbody>\n",
       "    <tr>\n",
       "      <th>0</th>\n",
       "      <td>79545.45857</td>\n",
       "      <td>5.682861</td>\n",
       "      <td>7.009188</td>\n",
       "      <td>23086.80050</td>\n",
       "    </tr>\n",
       "    <tr>\n",
       "      <th>1</th>\n",
       "      <td>79248.64245</td>\n",
       "      <td>6.002900</td>\n",
       "      <td>6.730821</td>\n",
       "      <td>40173.07217</td>\n",
       "    </tr>\n",
       "    <tr>\n",
       "      <th>2</th>\n",
       "      <td>61287.06718</td>\n",
       "      <td>5.865890</td>\n",
       "      <td>8.512727</td>\n",
       "      <td>36882.15940</td>\n",
       "    </tr>\n",
       "    <tr>\n",
       "      <th>3</th>\n",
       "      <td>63345.24005</td>\n",
       "      <td>7.188236</td>\n",
       "      <td>5.586729</td>\n",
       "      <td>34310.24283</td>\n",
       "    </tr>\n",
       "    <tr>\n",
       "      <th>4</th>\n",
       "      <td>59982.19723</td>\n",
       "      <td>5.040555</td>\n",
       "      <td>7.839388</td>\n",
       "      <td>26354.10947</td>\n",
       "    </tr>\n",
       "  </tbody>\n",
       "</table>\n",
       "</div>"
      ],
      "text/plain": [
       "   Avg. Area Income  Avg. Area House Age  Avg. Area Number of Rooms  \\\n",
       "0       79545.45857             5.682861                   7.009188   \n",
       "1       79248.64245             6.002900                   6.730821   \n",
       "2       61287.06718             5.865890                   8.512727   \n",
       "3       63345.24005             7.188236                   5.586729   \n",
       "4       59982.19723             5.040555                   7.839388   \n",
       "\n",
       "   Area Population  \n",
       "0      23086.80050  \n",
       "1      40173.07217  \n",
       "2      36882.15940  \n",
       "3      34310.24283  \n",
       "4      26354.10947  "
      ]
     },
     "execution_count": 66,
     "metadata": {},
     "output_type": "execute_result"
    }
   ],
   "source": [
    "x.head()"
   ]
  },
  {
   "cell_type": "code",
   "execution_count": 67,
   "id": "190fddec",
   "metadata": {},
   "outputs": [],
   "source": [
    "from sklearn.model_selection import train_test_split\n",
    "x_train, x_test, y_train, y_test = train_test_split(x,y,test_size=0.2, random_state=0)"
   ]
  },
  {
   "cell_type": "code",
   "execution_count": 68,
   "id": "0cb4e8e9",
   "metadata": {},
   "outputs": [
    {
     "data": {
      "text/html": [
       "<table class=\"simpletable\">\n",
       "<caption>OLS Regression Results</caption>\n",
       "<tr>\n",
       "  <th>Dep. Variable:</th>          <td>Price</td>      <th>  R-squared (uncentered):</th>      <td>   0.964</td> \n",
       "</tr>\n",
       "<tr>\n",
       "  <th>Model:</th>                   <td>OLS</td>       <th>  Adj. R-squared (uncentered):</th> <td>   0.964</td> \n",
       "</tr>\n",
       "<tr>\n",
       "  <th>Method:</th>             <td>Least Squares</td>  <th>  F-statistic:       </th>          <td>2.680e+04</td>\n",
       "</tr>\n",
       "<tr>\n",
       "  <th>Date:</th>             <td>Fri, 17 May 2024</td> <th>  Prob (F-statistic):</th>           <td>  0.00</td>  \n",
       "</tr>\n",
       "<tr>\n",
       "  <th>Time:</th>                 <td>11:36:04</td>     <th>  Log-Likelihood:    </th>          <td> -55278.</td> \n",
       "</tr>\n",
       "<tr>\n",
       "  <th>No. Observations:</th>      <td>  4000</td>      <th>  AIC:               </th>          <td>1.106e+05</td>\n",
       "</tr>\n",
       "<tr>\n",
       "  <th>Df Residuals:</th>          <td>  3996</td>      <th>  BIC:               </th>          <td>1.106e+05</td>\n",
       "</tr>\n",
       "<tr>\n",
       "  <th>Df Model:</th>              <td>     4</td>      <th>                     </th>              <td> </td>    \n",
       "</tr>\n",
       "<tr>\n",
       "  <th>Covariance Type:</th>      <td>nonrobust</td>    <th>                     </th>              <td> </td>    \n",
       "</tr>\n",
       "</table>\n",
       "<table class=\"simpletable\">\n",
       "<tr>\n",
       "              <td></td>                 <th>coef</th>     <th>std err</th>      <th>t</th>      <th>P>|t|</th>  <th>[0.025</th>    <th>0.975]</th>  \n",
       "</tr>\n",
       "<tr>\n",
       "  <th>Avg. Area Income</th>          <td>   10.3008</td> <td>    0.303</td> <td>   34.052</td> <td> 0.000</td> <td>    9.708</td> <td>   10.894</td>\n",
       "</tr>\n",
       "<tr>\n",
       "  <th>Avg. Area House Age</th>       <td> 5.246e+04</td> <td> 3320.148</td> <td>   15.800</td> <td> 0.000</td> <td>  4.6e+04</td> <td>  5.9e+04</td>\n",
       "</tr>\n",
       "<tr>\n",
       "  <th>Avg. Area Number of Rooms</th> <td>-8666.5831</td> <td> 3071.658</td> <td>   -2.821</td> <td> 0.005</td> <td>-1.47e+04</td> <td>-2644.419</td>\n",
       "</tr>\n",
       "<tr>\n",
       "  <th>Area Population</th>           <td>    8.0411</td> <td>    0.370</td> <td>   21.756</td> <td> 0.000</td> <td>    7.316</td> <td>    8.766</td>\n",
       "</tr>\n",
       "</table>\n",
       "<table class=\"simpletable\">\n",
       "<tr>\n",
       "  <th>Omnibus:</th>       <td> 0.177</td> <th>  Durbin-Watson:     </th> <td>   1.979</td>\n",
       "</tr>\n",
       "<tr>\n",
       "  <th>Prob(Omnibus):</th> <td> 0.915</td> <th>  Jarque-Bera (JB):  </th> <td>   0.161</td>\n",
       "</tr>\n",
       "<tr>\n",
       "  <th>Skew:</th>          <td>-0.015</td> <th>  Prob(JB):          </th> <td>   0.922</td>\n",
       "</tr>\n",
       "<tr>\n",
       "  <th>Kurtosis:</th>      <td> 3.008</td> <th>  Cond. No.          </th> <td>7.78e+04</td>\n",
       "</tr>\n",
       "</table><br/><br/>Notes:<br/>[1] R² is computed without centering (uncentered) since the model does not contain a constant.<br/>[2] Standard Errors assume that the covariance matrix of the errors is correctly specified.<br/>[3] The condition number is large, 7.78e+04. This might indicate that there are<br/>strong multicollinearity or other numerical problems."
      ],
      "text/plain": [
       "<class 'statsmodels.iolib.summary.Summary'>\n",
       "\"\"\"\n",
       "                                 OLS Regression Results                                \n",
       "=======================================================================================\n",
       "Dep. Variable:                  Price   R-squared (uncentered):                   0.964\n",
       "Model:                            OLS   Adj. R-squared (uncentered):              0.964\n",
       "Method:                 Least Squares   F-statistic:                          2.680e+04\n",
       "Date:                Fri, 17 May 2024   Prob (F-statistic):                        0.00\n",
       "Time:                        11:36:04   Log-Likelihood:                         -55278.\n",
       "No. Observations:                4000   AIC:                                  1.106e+05\n",
       "Df Residuals:                    3996   BIC:                                  1.106e+05\n",
       "Df Model:                           4                                                  \n",
       "Covariance Type:            nonrobust                                                  \n",
       "=============================================================================================\n",
       "                                coef    std err          t      P>|t|      [0.025      0.975]\n",
       "---------------------------------------------------------------------------------------------\n",
       "Avg. Area Income             10.3008      0.303     34.052      0.000       9.708      10.894\n",
       "Avg. Area House Age        5.246e+04   3320.148     15.800      0.000     4.6e+04     5.9e+04\n",
       "Avg. Area Number of Rooms -8666.5831   3071.658     -2.821      0.005   -1.47e+04   -2644.419\n",
       "Area Population               8.0411      0.370     21.756      0.000       7.316       8.766\n",
       "==============================================================================\n",
       "Omnibus:                        0.177   Durbin-Watson:                   1.979\n",
       "Prob(Omnibus):                  0.915   Jarque-Bera (JB):                0.161\n",
       "Skew:                          -0.015   Prob(JB):                        0.922\n",
       "Kurtosis:                       3.008   Cond. No.                     7.78e+04\n",
       "==============================================================================\n",
       "\n",
       "Notes:\n",
       "[1] R² is computed without centering (uncentered) since the model does not contain a constant.\n",
       "[2] Standard Errors assume that the covariance matrix of the errors is correctly specified.\n",
       "[3] The condition number is large, 7.78e+04. This might indicate that there are\n",
       "strong multicollinearity or other numerical problems.\n",
       "\"\"\""
      ]
     },
     "execution_count": 68,
     "metadata": {},
     "output_type": "execute_result"
    }
   ],
   "source": [
    "reg_model = smf.OLS(endog = y_train, exog=x_train).fit()\n",
    "reg_model.summary()"
   ]
  },
  {
   "cell_type": "code",
   "execution_count": 69,
   "id": "343a1a3e",
   "metadata": {},
   "outputs": [
    {
     "data": {
      "image/png": "[encoded data removed]",
      "text/plain": [
       "<Figure size 432x288 with 1 Axes>"
      ]
     },
     "metadata": {},
     "output_type": "display_data"
    }
   ],
   "source": [
    "#Checking linearity of dependent variable\n",
    "plt.scatter(y_test, y_pred)\n",
    "plt.show()"
   ]
  },
  {
   "cell_type": "code",
   "execution_count": 70,
   "id": "188f89ff",
   "metadata": {},
   "outputs": [
    {
     "data": {
      "image/png": "[encoded data removed]",
      "text/plain": [
       "<Figure size 432x288 with 1 Axes>"
      ]
     },
     "metadata": {},
     "output_type": "display_data"
    }
   ],
   "source": [
    "sns.distplot((y_test - y_pred), bins=50)\n",
    "plt.show()"
   ]
  },
  {
   "cell_type": "markdown",
   "id": "866a07bb",
   "metadata": {},
   "source": [
    "# Accuracy : Adj. R-squared (uncentered):\t0.964\n",
    "# p-value - all variable are statically significant (p<=0.05)\n",
    "# Assumption checks\n",
    "# 1) Multicollinearity - Not found - satisfied\n",
    "# 2) Endogenity - selected right dependent variable - satisfied\n",
    "# 3) Hetroscedasticity - already handled outlier (hence, data is homoscadasticity)\n",
    "# 4) Autocorrelation - Durbin-Watson:\t1.979 (p-value <=0.05) - satisfied (no autocorrelation found)\n",
    "# 5) Check Linearity - satisfied\n",
    "# 6) Normality of Residual - satisfied"
   ]
  },
  {
   "cell_type": "markdown",
   "id": "2b178737",
   "metadata": {},
   "source": [
    "# Regularisation Method¶\n",
    "1) Lasso - L1 regularization\n",
    "2) Ridge - L2 regularization \n",
    "3) ElasticNet : (L1 + L2) regularization - combination of lasso and ridge"
   ]
  },
  {
   "cell_type": "code",
   "execution_count": 71,
   "id": "a1a1b387",
   "metadata": {},
   "outputs": [
    {
     "name": "stdout",
     "output_type": "stream",
     "text": [
      "Lasso Regularisation [2.17682212e+01 1.67119371e+05 1.21923779e+05 1.53728284e+01]\n"
     ]
    }
   ],
   "source": [
    "# Lasso method - exact zero or closure to zero (slope/coefficient)\n",
    "from sklearn.linear_model import Lasso\n",
    "lasso = Lasso(alpha=0.1)\n",
    "lasso.fit(x_train, y_train)\n",
    "print(\"Lasso Regularisation\", lasso.coef_)"
   ]
  },
  {
   "cell_type": "code",
   "execution_count": 72,
   "id": "b55f7ed6",
   "metadata": {},
   "outputs": [],
   "source": [
    "y_pred_lasso_train = lasso.predict(x_train)\n",
    "y_pred_lasso_test = lasso.predict(x_test)"
   ]
  },
  {
   "cell_type": "code",
   "execution_count": 73,
   "id": "fbd3af2d",
   "metadata": {},
   "outputs": [
    {
     "name": "stdout",
     "output_type": "stream",
     "text": [
      "Lasso_Train_ACC : 0.9174417841489105\n",
      "\n",
      "Lasso_Test_ACC : 0.9090675809238651\n"
     ]
    }
   ],
   "source": [
    "print(\"Lasso_Train_ACC :\", r2_score(y_train, y_pred_lasso_train))\n",
    "print()\n",
    "print(\"Lasso_Test_ACC :\", r2_score(y_test, y_pred_lasso_test))"
   ]
  },
  {
   "cell_type": "markdown",
   "id": "32f0b959",
   "metadata": {},
   "source": [
    "# Ridge Regularization (L2)"
   ]
  },
  {
   "cell_type": "code",
   "execution_count": 74,
   "id": "6b8c7cd0",
   "metadata": {},
   "outputs": [
    {
     "name": "stdout",
     "output_type": "stream",
     "text": [
      "Ridge Model : [2.17682038e+01 1.67106582e+05 1.21914624e+05 1.53727952e+01]\n"
     ]
    }
   ],
   "source": [
    "from sklearn.linear_model import Ridge\n",
    "ridge = Ridge(alpha=0.3)\n",
    "ridge.fit(x_train, y_train)\n",
    "print(\"Ridge Model :\", ridge.coef_)"
   ]
  },
  {
   "cell_type": "code",
   "execution_count": 75,
   "id": "5a0e3cd9",
   "metadata": {},
   "outputs": [],
   "source": [
    "y_pred_ridge_train = ridge.predict(x_train)\n",
    "y_pred_ridge_test = ridge.predict(x_test)"
   ]
  },
  {
   "cell_type": "code",
   "execution_count": 76,
   "id": "87e32069",
   "metadata": {},
   "outputs": [
    {
     "name": "stdout",
     "output_type": "stream",
     "text": [
      "Ridge_Train_ACC : 0.9174417821784161\n",
      "\n",
      "Ridge_Test_ACC : 0.9090681939666867\n"
     ]
    }
   ],
   "source": [
    "print(\"Ridge_Train_ACC :\", r2_score(y_train, y_pred_ridge_train))\n",
    "print()\n",
    "print(\"Ridge_Test_ACC :\", r2_score(y_test, y_pred_ridge_test))"
   ]
  },
  {
   "cell_type": "markdown",
   "id": "baad7c66",
   "metadata": {},
   "source": [
    "# ElasticNet Regularization (L1 + L2)"
   ]
  },
  {
   "cell_type": "code",
   "execution_count": 77,
   "id": "d2231165",
   "metadata": {},
   "outputs": [
    {
     "data": {
      "text/plain": [
       "ElasticNet(alpha=0.3, l1_ratio=0.1)"
      ]
     },
     "execution_count": 77,
     "metadata": {},
     "output_type": "execute_result"
    }
   ],
   "source": [
    "from sklearn.linear_model import ElasticNet\n",
    "elasticnet = ElasticNet(alpha=0.3, l1_ratio=0.1)\n",
    "elasticnet.fit(x_train, y_train)"
   ]
  },
  {
   "cell_type": "code",
   "execution_count": 78,
   "id": "3afb4682",
   "metadata": {},
   "outputs": [
    {
     "name": "stdout",
     "output_type": "stream",
     "text": [
      "Elastic Model : [2.17184615e+01 1.30792119e+05 9.57563277e+04 1.52786030e+01]\n"
     ]
    }
   ],
   "source": [
    "print(\"Elastic Model :\", elasticnet.coef_)"
   ]
  },
  {
   "cell_type": "code",
   "execution_count": 79,
   "id": "8c1b4c0a",
   "metadata": {},
   "outputs": [],
   "source": [
    "y_pred_elastic_train = elasticnet.predict(x_train)\n",
    "y_pred_elastic_test = elasticnet.predict(x_test)"
   ]
  },
  {
   "cell_type": "code",
   "execution_count": 80,
   "id": "accbaebd",
   "metadata": {},
   "outputs": [
    {
     "name": "stdout",
     "output_type": "stream",
     "text": [
      "ElasticNet_Train_ACC : 0.901758288938795\n",
      "\n",
      "ElasticNet_Test_ACC : 0.8952016550808377\n"
     ]
    }
   ],
   "source": [
    "print(\"ElasticNet_Train_ACC :\", r2_score(y_train, y_pred_elastic_train))\n",
    "print()\n",
    "print(\"ElasticNet_Test_ACC :\", r2_score(y_test, y_pred_elastic_test))"
   ]
  },
  {
   "cell_type": "markdown",
   "id": "829d7d45",
   "metadata": {},
   "source": [
    "# Cross Validation Score - K-Fold method"
   ]
  },
  {
   "cell_type": "code",
   "execution_count": 81,
   "id": "c53a5f07",
   "metadata": {},
   "outputs": [],
   "source": [
    "from sklearn.model_selection import cross_val_score\n",
    "training_accuracy = cross_val_score(lm, x_train, y_train, cv=10)"
   ]
  },
  {
   "cell_type": "code",
   "execution_count": 82,
   "id": "ce3016cf",
   "metadata": {},
   "outputs": [
    {
     "name": "stdout",
     "output_type": "stream",
     "text": [
      "training_accuracy for all 10 indivisual : [0.92583402 0.92298199 0.92757644 0.9173837  0.91122926 0.90376145\n",
      " 0.90787634 0.91962723 0.92081829 0.90862776]\n",
      "\n",
      "training_accuracy with mean value : 0.9165716482072727\n",
      "\n",
      "training_accuracy max value : 0.9275764395226995\n"
     ]
    }
   ],
   "source": [
    "print('training_accuracy for all 10 indivisual :', training_accuracy)\n",
    "print()\n",
    "print(\"training_accuracy with mean value :\", training_accuracy.mean())\n",
    "print()\n",
    "print(\"training_accuracy max value :\", training_accuracy.max())"
   ]
  },
  {
   "cell_type": "code",
   "execution_count": null,
   "id": "e2aa4b7e",
   "metadata": {},
   "outputs": [],
   "source": []
  },
  {
   "cell_type": "code",
   "execution_count": null,
   "id": "12809648",
   "metadata": {},
   "outputs": [],
   "source": []
  }
 ],
 "metadata": {
  "kernelspec": {
   "display_name": "Python 3 (ipykernel)",
   "language": "python",
   "name": "python3"
  },
  "language_info": {
   "codemirror_mode": {
    "name": "ipython",
    "version": 3
   },
   "file_extension": ".py",
   "mimetype": "text/x-python",
   "name": "python",
   "nbconvert_exporter": "python",
   "pygments_lexer": "ipython3",
   "version": "3.9.12"
  }
 },
 "nbformat": 4,
 "nbformat_minor": 5
}
